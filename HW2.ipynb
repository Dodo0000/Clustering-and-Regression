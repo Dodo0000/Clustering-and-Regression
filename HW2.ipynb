{
 "cells": [
  {
   "cell_type": "markdown",
   "metadata": {},
   "source": [
    "**Name**: *Asad Karim*\n",
    "\n",
    "**Student ID**: *07278*\n",
    "\n",
    "Assignment 2: Introduction to Machine Learning: Clustering and Regression\n",
    "\n",
    "Note: You must install pydot package. For windows: goto http://pydot.googlecode.com/files/pydot-1.0.28.tar.gz and then run \"python setup.py install\" in the unzipped pydot folder.\n",
    "===\n",
    "\n",
    "## Overview\n",
    "\n",
    "In this assignment, we will use machine learning techniques to perform data analysis and learn models about our data. We will use a real world music dataset from [Last.fm](http://last.fm) for this assignment. There are two parts to this assignment: In the first part we will look at Unsupervised Learning with clustering and in the second part, we will study Supervised Learning. The play data (and user/artist matrix) comes from the [Last.fm 1K Users dataset](http://www.dtic.upf.edu/~ocelma/MusicRecommendationDataset/lastfm-1K.html), while the tags come from [the Last.fm Music Tags dataset](http://musicmachinery.com/2010/11/10/lastfm-artisttags2007/). You won't have to interact with these datasets directly, because we've already preprocessed them for you.\n",
    "\n",
    ">**Note**: Before you begin, you should install pydot by running `sudo apt-get install python-pydot`. Additionally, you should be running on a VM with at least 1GB of RAM allotted to it - less than that and you may run into issues with scikit-learn."
   ]
  },
  {
   "cell_type": "markdown",
   "metadata": {},
   "source": [
    "### Introduction to Machine Learning\n",
    "\n",
    "Machine learning is a branch of artifical intelligence where we try to find hidden structure within data. \n",
    "For example, lets say you are hired as a data scientist at a cool new music playing startup. You are given access to \n",
    "logs from the product and are asked find out what kinds of music are played on your website and how you can promote songs that will be \n",
    "popular. In this case we wish to extract some structure from the raw data we have using machine learning.\n",
    "\n",
    "There are two main kinds of machine learning algorithms:\n",
    "\n",
    "1. Unsupervised Learning - is the branch where we don't have any ground truth (or labeled data) that can help our training process. There are many approaches to unsupervised learning which includes topics like Clustering,  Mixture Models, Hidden Markov Models etc. In this assignment we will predominantly look at clustering.\n",
    "2. Supervised Learning - we have training data which is labeled (either manually or from historical data) and we try to make predictions about those labels on new, unlabeled, data. There are similarly several approaches to supervised learning - various classification and regression techniques all the way up to Support Vector Machines and Convolutional Neural Networks. In this assignment we'll explore two regression algorithms - Least Squares Linear Regression and Regression Trees. \n",
    "\n",
    "Many of the techniques you'll be using (like testing on a validation set) are of critical importance to the modeling process, regardless of the technique you're using, so keep these in mind in your future modeling efforts."
   ]
  },
  {
   "cell_type": "markdown",
   "metadata": {},
   "source": [
    "### Application\n",
    "\n",
    "Your assignment is to use machine learning algorithms for two tasks on a real world music dataset from Last.fm. The goal in the first part is to cluster artists and try to discover all artists that belong a certain genre. In the second part, we'll use the same dataset and attempt to predict how popular a song will be based on a number of features of that song. One component will involve incorporating cluster information into the models."
   ]
  },
  {
   "cell_type": "markdown",
   "metadata": {},
   "source": [
    "### Files\n",
    "\n",
    "Data files for this assignment can be found at:\n",
    "\n",
    "`https://github.com/msjamall/CSE568/hw2/hw2data.tar.gz`\n",
    "\n",
    "The zip file includes the following files:\n",
    "\n",
    "* **artists-tags.txt**, User-defined tags for top artists\n",
    "* **userart-mat-training.csv**, Training data containing a matrix mapping artist-id to users who have played songs by the artists\n",
    "* **userart-mat-test.csv**, Test data containing a matrix mapping artist-id to users who have played songs by the artists\n",
    "* **train_model_data.csv**, Aggregate statsitstics and features about songs we'll use to train regression models.\n",
    "* **validation_model_data.csv**, Similar statistics computed on a hold-out set of users and songs that we'll use to validate our regression models.\n",
    "\n",
    "We will explain the datasets and how they need to used in the assignment sections."
   ]
  },
  {
   "cell_type": "markdown",
   "metadata": {},
   "source": [
    "### Deliverables\n",
    "\n",
    "Complete the all the exercises below and turn in a write up in the form of an IPython notebook, that is, **an .ipynb file**.\n",
    "The write up should include your code, answers to exercise questions, and plots of results. \n",
    "\n",
    "You must submit a printed copy of a run ipython notebook at class on the due date. Also, a softcopy must be submitted, submission details for the softcopy submission will be provided in class.\n",
    "\n",
    "In this notebook, we provide code templates for many of the exercises. They are intended to help with code re-use, since the exercises build on each other, please use them. Don't forget to include answers to questions that ask for natural language responses, i.e., in English, not code!"
   ]
  },
  {
   "cell_type": "markdown",
   "metadata": {},
   "source": [
    "### Guidelines\n",
    "\n",
    "#### Code\n",
    "\n",
    "This assignment can be done with basic python, matplotlib and scikit-learn.\n",
    "Feel free to use Pandas, too, which you may find well suited to several exercises.\n",
    "As for other libraries, please check with course staff whether they're allowed.\n",
    "\n",
    "You're not required to do your coding in IPython, so feel free to use your favorite editor or IDE.\n",
    "But when you're done, remember to put your code into a notebook for your write up.\n",
    "\n",
    "#### Collaboration\n",
    "\n",
    "This assignment is to be done individually.  Everyone should be getting a hands on experience in this course.  You are free to discuss course material with fellow students, and we encourage you to use Internet resources to aid your understanding, but the work you turn in, including all code and answers, must be your own work."
   ]
  },
  {
   "cell_type": "markdown",
   "metadata": {},
   "source": [
    "## Part 0: Preliminaries\n",
    "\n",
    "### Exercise 0\n",
    "\n",
    "Download the data and unzip it. \n",
    "\n",
    "Read in the file **artists-tags.txt** and store the contents in a DataFrame. The file format for this file is `artist-id|artist-name|tag|count`. The fields mean the following:\n",
    "\n",
    "1. artist-id : a unique id for an artist (Formatted as a [MusicBrainz Identifier](https://musicbrainz.org/doc/MusicBrainz_Identifier))\n",
    "2. artist-name: name of the artist\n",
    "3. tag: user-defined tag for the artist\n",
    "4. count: number of times the tag was applied\n",
    "\n",
    "Similarly, read in the file **userart-mat-training.csv** . The file format for this file is `artist-id, user1, user2, .... user1000`. i.e. There are 846 such columns in this file and each column has a value 1 if the particular user played a song from this artist."
   ]
  },
  {
   "cell_type": "code",
   "execution_count": 2,
   "metadata": {
    "collapsed": false
   },
   "outputs": [
    {
     "name": "stdout",
     "output_type": "stream",
     "text": [
      "Number of tags 952810\n",
      "Number of artists 17119\n"
     ]
    }
   ],
   "source": [
    "import pandas as pd\n",
    "\n",
    "DATA_PATH = \".\\data\" # Make this the /path/to/the/data\n",
    "\n",
    "def parse_artists_tags(filename):\n",
    "    df = pd.read_csv(filename, sep=\"|\", names=[\"ArtistID\", \"ArtistName\", \"Tag\", \"Count\"])\n",
    "    return df\n",
    "\n",
    "def parse_user_artists_matrix(filename):\n",
    "    df = pd.read_csv(filename)\n",
    "    return df\n",
    "\n",
    "artists_tags = parse_artists_tags(DATA_PATH + \"/artists-tags.txt\")\n",
    "user_art_mat = parse_user_artists_matrix(DATA_PATH + \"/userart-mat-training.csv\")\n",
    "\n",
    "print \"Number of tags %d\" % len(artists_tags) # Change this line. Should be 952803\n",
    "print \"Number of artists %d\" % len(user_art_mat) # Change this line. Should be 17119"
   ]
  },
  {
   "cell_type": "markdown",
   "metadata": {},
   "source": [
    "## Part 1: Finding genres by clustering\n",
    "\n",
    "The first task we will look at is how to discover artist genres by only looking at data from plays on Last.fm. One of the ways to do this is to use clustering. To evaluate how well our clustering algorithm performs we will use the user-generated tags and compare those to our clustering results. \n",
    "\n",
    "### 1.1 Data pre-processing\n",
    "\n",
    "Last.fm allows users to associate tags with every artist (See the [top tags](http://www.last.fm/charts/toptags) for a live example). However as there are a number of tags associated with every artists, in the first step we will pre-process the data and get the most popular tag for an artist."
   ]
  },
  {
   "cell_type": "markdown",
   "metadata": {},
   "source": [
    "#### Exercise 1\n",
    "\n",
    "**a**. For every artist in **artists_tags** calculate the most frequently used tag. "
   ]
  },
  {
   "cell_type": "code",
   "execution_count": 3,
   "metadata": {
    "collapsed": false
   },
   "outputs": [
    {
     "name": "stdout",
     "output_type": "stream",
     "text": [
      "Top tag for Nirvana is Grunge\n"
     ]
    }
   ],
   "source": [
    "# TODO Implement this. You can change the function arguments if necessary\n",
    "# Return a data structure that contains (artist id, artist name, top tag) for every artist\n",
    "def calculate_top_tag(all_tags):\n",
    "    # returns a df grouped by ArtistID and Tag\n",
    "    tag_counts = artists_tags.groupby(['ArtistID', 'ArtistName','Tag'])\n",
    "    # sum up tag counts and sort in descending order\n",
    "    tag_counts = tag_counts.sum().sort_values('Count', ascending=False).reset_index()\n",
    "    # keep only the top ranking tag per artist\n",
    "    return tag_counts.groupby('ArtistID').first()\n",
    "    \n",
    "\n",
    "    \n",
    "top_tags = calculate_top_tag(artists_tags)\n",
    "\n",
    "# top_tags is now a dataframe which contains the top tag for every artist\n",
    "    \n",
    "nirvana_tag = top_tags.ix['5b11f4ce-a62d-471e-81fc-a69a8278c7da'][1]\n",
    "\n",
    "#print top_tags\n",
    "# Print the top tag for Nirvana\n",
    "# Artist ID for Nirvana is 5b11f4ce-a62d-471e-81fc-a69a8278c7da\n",
    "# Should be 'Grunge'\n",
    "print \"Top tag for Nirvana is %s\" % nirvana_tag # Complete this line\n",
    "\n",
    "top_tags = top_tags.reset_index(level='ArtistID')\n",
    "#print top_tags.head()"
   ]
  },
  {
   "cell_type": "markdown",
   "metadata": {},
   "source": [
    "**b**. To do clustering we will be using `numpy` matrices. Create a matrix from **user_art_mat** with every row in the matrix representing a single artist. The matrix will have 846 columns, one for whether each user listened to the artist."
   ]
  },
  {
   "cell_type": "code",
   "execution_count": 4,
   "metadata": {
    "collapsed": false
   },
   "outputs": [
    {
     "name": "stdout",
     "output_type": "stream",
     "text": [
      "(17119, 846)\n",
      "[[0 0 0 ..., 0 0 0]\n",
      " [0 0 0 ..., 0 0 0]\n",
      " [0 0 0 ..., 0 1 0]\n",
      " ..., \n",
      " [0 0 0 ..., 0 0 0]\n",
      " [0 0 0 ..., 0 0 0]\n",
      " [0 0 0 ..., 0 0 0]]\n"
     ]
    }
   ],
   "source": [
    "import numpy as np\n",
    "def create_user_matrix(input_data):\n",
    "    input_data = input_data.drop(input_data.columns[0], axis=1)\n",
    "    data = input_data.as_matrix()\n",
    "    return data\n",
    "\n",
    "user_np_matrix = create_user_matrix(user_art_mat)\n",
    "\n",
    "print user_np_matrix.shape # Should be (17119, 846)\n",
    "print user_np_matrix"
   ]
  },
  {
   "cell_type": "markdown",
   "metadata": {},
   "source": [
    "### 1.2 K-Means clustering\n",
    "\n",
    "Having pre-processed the data we can now perform clustering on the dataset. In this assignment we will be using the python library \n",
    "[scikit-learn](http://scikit-learn.org/stable/index.html) for our machine learning algorithms. scikit-learn provides an extensive\n",
    "library of machine learning algorithms that can be used for analysis. Here is a [nice flow chart](http://scikit-learn.org/stable/tutorial/machine_learning_map/index.html) that shows various algorithms implemented\n",
    "and when to use any of them. In this part of the assignment we will look at K-Means clustering\n",
    "\n",
    "> **Note on terminology**: \"samples\" and \"features\" are two words you will come across frequently when you look at machine learning papers or documentation. \"samples\" refer to data points that are used as inputs to the machine learning algorithm. For example in our dataset each artist is a \"sample\". \"features\" refers to some representation we have for every sample. For example the list of 1s and 0s we have for each artist are \"features\". Similarly the bag-of-words approach from the previous homework produced \"features\" for each document.\n",
    "\n",
    "#### K-Means algorithm\n",
    "\n",
    "Clustering is the process of automatically grouping data points that are similar to each other. In the [K-Means algorithm](http://en.wikipedia.org/wiki/K-means_clustering) we start with `K` initially chosen cluster centers (or centroids). We then compute the distance of every point from the centroids and assign each point to the centroid. Next we update the centroids by averaging all the points in the cluster. Finally, we repeat the algorithm until the cluster centers are stable.\n",
    "\n",
    "### Running K-Means\n",
    "\n",
    "#### K-Means interface\n",
    "Take a minute to look at the scikit-learn interface for calling [KMeans](http://scikit-learn.org/stable/modules/generated/sklearn.cluster.KMeans.html). The constructor of the KMeans class returns a `estimator` on which you can call [fit](http://scikit-learn.org/stable/modules/generated/sklearn.cluster.KMeans.html#sklearn.cluster.KMeans.fit) to perform clustering.\n",
    "\n",
    "#### K-Means parameters\n",
    "From the above description we can see that there are a few parameters which control the K-Means algorithm. We will look at one parameter specifically, the number of clusters used in the algorithm. The number of clusters needs to be chosen based on domain knowledge of the data. As we do not know how many genres exist we will try different values and compare the results.\n",
    "\n",
    "#### Timing your code\n",
    "We will also measure the performance of clustering algorithms in this section. You can time the code in a cell using the **%%time** [IPython magic](http://nbviewer.ipython.org/github/ipython/ipython/blob/1.x/examples/notebooks/Cell%20Magics.ipynb) as the first line in the cell. \n",
    "\n",
    ">**Note**: By default, the scikit-learn KMeans implementation runs the algorithm 10 times with different center initializations. For this assignment you can run it just once by passing the `n_init` argument as 1."
   ]
  },
  {
   "cell_type": "markdown",
   "metadata": {},
   "source": [
    "#### Exercise 2\n",
    "\n",
    "**a**. Run K-means using *5* cluster centers on the `user_np_matrix`."
   ]
  },
  {
   "cell_type": "code",
   "execution_count": 5,
   "metadata": {
    "collapsed": false
   },
   "outputs": [
    {
     "name": "stdout",
     "output_type": "stream",
     "text": [
      "Wall time: 32.8 s\n"
     ]
    }
   ],
   "source": [
    "%%time\n",
    "from sklearn.cluster import KMeans\n",
    "\n",
    "# Run K-means using 5 cluster centers on user_np_matrix\n",
    "\n",
    "kmeans_5 = KMeans(n_init=1, n_clusters=5).fit(user_np_matrix)\n"
   ]
  },
  {
   "cell_type": "markdown",
   "metadata": {},
   "source": [
    "**b**. Run K-means using *25* and *50* cluster centers on the `user_np_matrix`. Also measure the time taken for both cases."
   ]
  },
  {
   "cell_type": "code",
   "execution_count": 6,
   "metadata": {
    "collapsed": false
   },
   "outputs": [
    {
     "name": "stdout",
     "output_type": "stream",
     "text": [
      "Wall time: 16.1 s\n"
     ]
    }
   ],
   "source": [
    "%%time\n",
    "kmeans_25 = KMeans(n_init=1, n_clusters=25).fit(user_np_matrix)\n"
   ]
  },
  {
   "cell_type": "code",
   "execution_count": 7,
   "metadata": {
    "collapsed": false
   },
   "outputs": [
    {
     "name": "stdout",
     "output_type": "stream",
     "text": [
      "Wall time: 29.8 s\n"
     ]
    }
   ],
   "source": [
    "%%time\n",
    "kmeans_50 = KMeans(n_init=1, n_clusters=50).fit(user_np_matrix)\n"
   ]
  },
  {
   "cell_type": "markdown",
   "metadata": {},
   "source": [
    "**d**. Of the three algorithms, which setting took the longest to run ? Why do you think this is the case ?"
   ]
  },
  {
   "cell_type": "markdown",
   "metadata": {},
   "source": [
    ">The third one. It's because there are higher number of centroids that are being compared when computing clustering each point."
   ]
  },
  {
   "cell_type": "markdown",
   "metadata": {},
   "source": [
    "### 1.3 Evaluating K-Means\n",
    "\n",
    "In addition to the performance comparisons we also wish to compare how good our clusters are. To do this we are first going to look at internal evaluation metrics. For internal evaluation we only use the input data and the clusters created and try to measure the quality of clusters created. We are going to use two metrics for this:\n",
    "\n",
    "#### Inertia\n",
    "Inertia is a metric that is used to estimate how close the data points in a cluster are. This is calculated as the sum of squared distance for each point to it's closest centroid, i.e., its assigned cluster center. The intution behind inertia is that clusters with lower inertia are better as it means closely related points form a cluster.Inertia is calculated by scikit-learn by default.\n"
   ]
  },
  {
   "cell_type": "markdown",
   "metadata": {},
   "source": [
    "**Exercise 3**"
   ]
  },
  {
   "cell_type": "markdown",
   "metadata": {},
   "source": [
    "**a**. Print inertia for all the kmeans model computed above."
   ]
  },
  {
   "cell_type": "code",
   "execution_count": 8,
   "metadata": {
    "collapsed": false
   },
   "outputs": [
    {
     "name": "stdout",
     "output_type": "stream",
     "text": [
      "Inertia for KMeans with 5 clusters = 349826.566949 \n",
      "Inertia for KMeans with 25 clusters =  320928.557113 \n",
      "Inertia for KMeans with 50 clusters = 308934.762522 \n"
     ]
    }
   ],
   "source": [
    "print \"Inertia for KMeans with 5 clusters = %lf \" % kmeans_5.inertia_\n",
    "print \"Inertia for KMeans with 25 clusters =  %lf \" % kmeans_25.inertia_\n",
    "print \"Inertia for KMeans with 50 clusters = %lf \" % kmeans_50.inertia_"
   ]
  },
  {
   "cell_type": "markdown",
   "metadata": {},
   "source": [
    "**b**. Does KMeans run with 25 clusters have lower or greater inertia than the ones with 5 clusters ? Which algorithm is better and why ?"
   ]
  },
  {
   "cell_type": "markdown",
   "metadata": {},
   "source": [
    ">25 clusters have a lower inertia than that of five. 25 clusters give a better inertia, but 5 clusters are faster. \n",
    "Hence I reckon 5 clusters are better. "
   ]
  },
  {
   "cell_type": "markdown",
   "metadata": {},
   "source": [
    "#### Silhouette Score: \n",
    "The silhouette score measures how close various clusters created are. A higher silhouette score is better as it means that we dont have too many overlapping clusters. The silhouette score can be computed using [sklearn.metrics.silhouette_score](http://scikit-learn.org/stable/modules/generated/sklearn.metrics.silhouette_score.html#sklearn.metrics.silhouette_score) from scikit learn."
   ]
  },
  {
   "cell_type": "markdown",
   "metadata": {},
   "source": [
    "**c.** Calculate the Silhouette Score using 500 sample points for all the kmeans models."
   ]
  },
  {
   "cell_type": "code",
   "execution_count": 9,
   "metadata": {
    "collapsed": false
   },
   "outputs": [
    {
     "name": "stdout",
     "output_type": "stream",
     "text": [
      "Silhouette Score for KMeans with 5 clusters = 0.225638\n",
      "Silhouette Score for KMeans with 25 clusters = 0.105384 \n",
      "Silhouette Score for KMeans with 50 clusters = 0.068702 \n"
     ]
    }
   ],
   "source": [
    "from sklearn.metrics import silhouette_score\n",
    "\n",
    "# NOTE: Use 500 sample points to calculate the silhouette score\n",
    "def get_silhouette_score(data, model):\n",
    "    return silhouette_score(data, model, metric='euclidean', sample_size=500)\n",
    "    \n",
    "\n",
    "print \"Silhouette Score for KMeans with 5 clusters = %lf\" % get_silhouette_score(user_np_matrix, kmeans_5.labels_)\n",
    "print \"Silhouette Score for KMeans with 25 clusters = %lf \" % get_silhouette_score(user_np_matrix, kmeans_25.labels_)\n",
    "print \"Silhouette Score for KMeans with 50 clusters = %lf \" % get_silhouette_score(user_np_matrix, kmeans_50.labels_)"
   ]
  },
  {
   "cell_type": "markdown",
   "metadata": {},
   "source": [
    "**d**. How does increasing the number of clusters affect the silhouette score ?"
   ]
  },
  {
   "cell_type": "markdown",
   "metadata": {},
   "source": [
    ">Increasing the number of clusters results in increase in overlapping between the clusters. Hence the silouette scores decrease. "
   ]
  },
  {
   "cell_type": "markdown",
   "metadata": {},
   "source": [
    "### 1.4 External Evaluation\n",
    "While internal evaluation is useful, a better method for measuring clustering quality is to do external evaluation. This might not be possible always as we may not have ground truth data available. In our application we will use `top_tags` from before as our ground truth data for external evaluation. We will first compute purity and accuracy and finally we will predict tags for our **test** dataset.\n",
    "\n",
    "#### Exercise 4\n",
    "\n",
    "**a**. As a first step we will need to **join** the `artist_tags` data with the set of labels generated by K-Means model. That is, for every artist we will now have the top tag, cluster id and artist name in a data structure."
   ]
  },
  {
   "cell_type": "code",
   "execution_count": 10,
   "metadata": {
    "collapsed": false
   },
   "outputs": [
    {
     "name": "stdout",
     "output_type": "stream",
     "text": [
      "17119                                ArtistID  ClusterID      ArtistName  \\\n",
      "0  c489cd1c-d8d3-4dcc-b7b9-dcf7cd95d2ed          0  Torture Killer   \n",
      "1  9ccbb935-33fd-4df8-ae2d-779497c5630a          0            Brak   \n",
      "2  c71b2cc1-2737-4f76-bbf2-9ee505b4d90d          0             NaN   \n",
      "3  0aa8294b-6332-4b65-b677-e3a1f8591d3b          1    Bonnie Tyler   \n",
      "4  67673557-2310-41d3-83b9-e6e0cb1d65d5          0     Sacramentum   \n",
      "\n",
      "           Tag  Count  \n",
      "0  death metal  166.0  \n",
      "1       comedy   14.0  \n",
      "2          NaN    NaN  \n",
      "3          80s  101.0  \n",
      "4  black metal   49.0  \n",
      "17119                                ArtistID  ClusterID      ArtistName  \\\n",
      "0  c489cd1c-d8d3-4dcc-b7b9-dcf7cd95d2ed          0  Torture Killer   \n",
      "1  9ccbb935-33fd-4df8-ae2d-779497c5630a          9            Brak   \n",
      "2  c71b2cc1-2737-4f76-bbf2-9ee505b4d90d          9             NaN   \n",
      "3  0aa8294b-6332-4b65-b677-e3a1f8591d3b         23    Bonnie Tyler   \n",
      "4  67673557-2310-41d3-83b9-e6e0cb1d65d5         19     Sacramentum   \n",
      "\n",
      "           Tag  Count  \n",
      "0  death metal  166.0  \n",
      "1       comedy   14.0  \n",
      "2          NaN    NaN  \n",
      "3          80s  101.0  \n",
      "4  black metal   49.0  \n",
      "17119                                ArtistID  ClusterID      ArtistName  \\\n",
      "0  c489cd1c-d8d3-4dcc-b7b9-dcf7cd95d2ed         49  Torture Killer   \n",
      "1  9ccbb935-33fd-4df8-ae2d-779497c5630a         49            Brak   \n",
      "2  c71b2cc1-2737-4f76-bbf2-9ee505b4d90d         49             NaN   \n",
      "3  0aa8294b-6332-4b65-b677-e3a1f8591d3b         24    Bonnie Tyler   \n",
      "4  67673557-2310-41d3-83b9-e6e0cb1d65d5         49     Sacramentum   \n",
      "\n",
      "           Tag  Count  \n",
      "0  death metal  166.0  \n",
      "1       comedy   14.0  \n",
      "2          NaN    NaN  \n",
      "3          80s  101.0  \n",
      "4  black metal   49.0  \n"
     ]
    }
   ],
   "source": [
    "# Return a data structure that contains artist_id, artist_name, top tag, cluster_label for every artist\n",
    "def join_tags_labels(artists_data, user_data, kmeans_model):\n",
    "    #print len(user_data), len(kmeans_model.labels_)\n",
    "    #user_data.radd(kmeans_model.labels_, axis='columns', level=None, fill_value=None)\n",
    "    #return pd.concat([user_data, kmeans_model.labels_], axis=1) \n",
    "    labels_df = pd.DataFrame(kmeans_model.labels_)\n",
    "    cols = ['ClusterID']\n",
    "    labels_df.columns = cols\n",
    "    user_data_labels = user_data.join(labels_df, how='outer')\n",
    "    #print (user_data_labels)\n",
    "    #user_data_labels_short = pd.concat([user_data_labels.ArtistID, user_data_labels.Labels], ignore_index = True)\n",
    "    user_data_labels_one = user_data_labels.ArtistID.to_frame()\n",
    "    user_data_labels_two = user_data_labels.ClusterID.to_frame()\n",
    "    user_data_labels_short = user_data_labels_one.join(user_data_labels_two, how='outer')\n",
    "    #print (user_data_labels_short)\n",
    "    result = user_data_labels_short.merge(top_tags, how='left', on='ArtistID')\n",
    "    print len(result),result.head()\n",
    "    return result\n",
    "# Run the function for all the models\n",
    "\n",
    "\n",
    "kmeans_5_joined = join_tags_labels(artists_tags, user_art_mat, kmeans_5)\n",
    "kmeans_25_joined = join_tags_labels(artists_tags, user_art_mat, kmeans_25)\n",
    "kmeans_50_joined = join_tags_labels(artists_tags, user_art_mat, kmeans_50)"
   ]
  },
  {
   "cell_type": "markdown",
   "metadata": {},
   "source": [
    "**b**. Next we need to generate a genre for every cluster id we have (the cluster ids are from 0 to N-1). You can do this by **grouping** the data from the previous exercise on cluster id. \n",
    "\n",
    "One thing you might notice is that we typically get a bunch of different tags associated with every cluster. How do we pick one genre or tag from this ? To cover various tags that are part of the cluster, we will pick the **top 5** tags in each cluster and save the list of top-5 tags as the genre for the cluster.\n"
   ]
  },
  {
   "cell_type": "code",
   "execution_count": 11,
   "metadata": {
    "collapsed": false
   },
   "outputs": [
    {
     "name": "stdout",
     "output_type": "stream",
     "text": [
      "                                ArtistID  ClusterID  \\\n",
      "0   af8e4cc5-ef54-458d-a194-7b210acf638f          0   \n",
      "1   b863cf80-19c6-4a87-8e42-6cff7ac8f18f          0   \n",
      "2   af8fd97c-db72-4e30-b2aa-30ebd0c4f1a0          0   \n",
      "3   adc68a50-38ee-456d-927e-715cbf74c0d5          0   \n",
      "4   39822e8d-f24e-4f07-b51b-28b22e59fbdb          0   \n",
      "5   ca891d65-d9b0-4258-89f7-e6ba29d83767          1   \n",
      "6   31745282-b1ea-4d62-939f-226b14d68e7c          1   \n",
      "7   28503ab7-8bf2-4666-a7bd-2644bfc7cb1d          1   \n",
      "8   bdacc37b-8633-4bf8-9dd5-4662ee651aec          1   \n",
      "9   c14b4180-dc87-481e-b17a-64e4150f90f6          1   \n",
      "10  5b11f4ce-a62d-471e-81fc-a69a8278c7da          2   \n",
      "11  8bfac288-ccc5-448d-9573-c33ea2aa5c30          2   \n",
      "12  0039c7ae-e1a7-4a7d-9b49-0cbc716821a6          2   \n",
      "13  a74b1b7f-71a5-4011-9441-d0b5e4122711          2   \n",
      "14  65f4f0c5-ef9e-490c-aee3-909e7ae6b2ab          2   \n",
      "15  3648db01-b29d-4ab9-835c-83f6a5068fe4          3   \n",
      "16  b625448e-bf4a-41c3-a421-72ad46cdb831          3   \n",
      "17  b38225b8-8e5f-42aa-bcdc-7bae5b5bdab3          3   \n",
      "18  37c78aeb-d196-42b5-b991-6afb4fc9bc2e          3   \n",
      "19  b972f589-fb0e-474e-b64a-803b0364fa75          3   \n",
      "20  49cd96a6-42c3-44f6-ba2a-cd9301046b96          4   \n",
      "21  4355a36d-805e-478d-8589-64f0292724b2          4   \n",
      "22  fa31e7d4-a03a-4110-98fc-f8826e95ec25          4   \n",
      "23  ab309b83-904f-4e2c-8d11-a0223bba51f9          4   \n",
      "24  ea0f2a37-7007-4217-a812-396227f5013a          4   \n",
      "\n",
      "                     ArtistName                  Tag  \n",
      "0               Cannibal Corpse          death metal  \n",
      "1                      Immortal          black metal  \n",
      "2                    Darkthrone          black metal  \n",
      "3                          Nile          death metal  \n",
      "4                       Kreator         thrash metal  \n",
      "5                   Iron Maiden          heavy metal  \n",
      "6                     In Flames  Melodic Death Metal  \n",
      "7                 Dream Theater    Progressive metal  \n",
      "8                        Slayer         thrash metal  \n",
      "9                         Opeth    Progressive metal  \n",
      "10                      Nirvana               Grunge  \n",
      "11        Red Hot Chili Peppers                 rock  \n",
      "12          Death Cab for Cutie                indie  \n",
      "13                    Radiohead          alternative  \n",
      "14                    Metallica                metal  \n",
      "15  Godspeed You! Black Emperor            post-rock  \n",
      "16                John Coltrane                 jazz  \n",
      "17                 King Crimson     Progressive rock  \n",
      "18                Dead Kennedys                 punk  \n",
      "19      Wolfgang Amadeus Mozart            Classical  \n",
      "20                       Burzum          black metal  \n",
      "21                 Morbid Angel          death metal  \n",
      "22                     Converge             hardcore  \n",
      "23                  Dir en grey               J-rock  \n",
      "24                        Kyuss          Stoner Rock  \n",
      "                                 ArtistID  ClusterID  \\\n",
      "0    c5f9e699-7b0d-4030-86dd-7acc8250d147          0   \n",
      "1    fa31e7d4-a03a-4110-98fc-f8826e95ec25          0   \n",
      "2    a1d69fd9-0096-4a60-b277-de34e5a77fca          0   \n",
      "3    ab309b83-904f-4e2c-8d11-a0223bba51f9          0   \n",
      "4    7bace718-5f56-4311-9568-e46a70830605          0   \n",
      "5    3648db01-b29d-4ab9-835c-83f6a5068fe4          1   \n",
      "6    882d41ca-194d-405a-bfc5-b698ccfd77b4          1   \n",
      "7    c4153c51-b4ac-4183-beb3-c5dbfce39176          1   \n",
      "8    fa927f59-d443-418a-b741-e557208aaf09          1   \n",
      "9    107c7983-0728-46ea-8550-77e698adf690          1   \n",
      "10   350bce49-c21b-4137-b50a-0766ded07e4d          2   \n",
      "11   516cef4d-0718-4007-9939-f9b38af3f784          2   \n",
      "12   dcaa4f81-bfb7-44eb-8594-4e74f004b6e4          2   \n",
      "13   b9472588-93f3-4922-a1a2-74082cdf9ce8          2   \n",
      "14   50549203-9602-451c-b49f-ff031ba8635c          2   \n",
      "15   8bfac288-ccc5-448d-9573-c33ea2aa5c30          3   \n",
      "16   a74b1b7f-71a5-4011-9441-d0b5e4122711          3   \n",
      "17   b10bbbfc-cf9e-42e0-be17-e2c3e1d2600d          3   \n",
      "18   b7ffd2af-418f-4be2-bdd1-22f8b48613da          3   \n",
      "19   83d91898-7763-47d7-b03b-b92132375c47          3   \n",
      "20   80b3cf5e-18fe-4c59-98c7-e5bb87210710          4   \n",
      "21   f82bcf78-5b69-4622-a5ef-73800768d9ac          4   \n",
      "22   382f1005-e9ab-4684-afd4-0bdae4ee37f2          4   \n",
      "23   9689aa5a-4471-4fb4-9721-07cecda0fa9f          4   \n",
      "24   11c6b106-1c1f-429d-8407-b1ee155d7f72          4   \n",
      "25   d339efbb-77b9-4147-ba9e-59f2f24550b2          5   \n",
      "26   8e68819d-71be-4e7d-b41d-f1df81b01d3f          5   \n",
      "27   f90e8b26-9e52-4669-a5c9-e28529c47894          5   \n",
      "28   22a096ef-c70d-4d70-ae19-4fc2412d4986          5   \n",
      "29   bf24ca37-25f4-4e34-9aec-460b94364cfc          5   \n",
      "..                                    ...        ...   \n",
      "95   6d152109-c447-446d-9a06-3621c920bebd         19   \n",
      "96   52d858dc-d61d-4572-b70f-cc467d1612d8         19   \n",
      "97   af7c56d2-8584-424a-97f9-f365f50e8868         19   \n",
      "98   c9e0a0f5-9f53-4247-a52d-a3f29d975e17         19   \n",
      "99   bcbc08d6-4615-4f40-963c-5158ebe2b9e0         19   \n",
      "100  5b11f4ce-a62d-471e-81fc-a69a8278c7da         20   \n",
      "101  0039c7ae-e1a7-4a7d-9b49-0cbc716821a6         20   \n",
      "102  67f66c07-6e61-4026-ade5-7e782fad3a5d         20   \n",
      "103  11ae9fbb-f3d7-4a47-936f-4c0a04d3b3b5         20   \n",
      "104  299278d3-25dd-4f30-bae4-5b571c28034d         20   \n",
      "105  ad92dd9c-56ef-4443-b2c0-ff2f7d9cca49         21   \n",
      "106  de11b037-d880-40e0-8901-0397c768c457         21   \n",
      "107  54b0584e-4e5e-4976-80d4-eea7a82a7213         21   \n",
      "108  99d7b49c-c18e-4a11-bf3e-b71710938df6         21   \n",
      "109  5fc21e44-d663-495a-b16a-7cc641af5deb         21   \n",
      "110  78f797e3-4913-4026-aad0-1cd858bd735b         22   \n",
      "111  01d3c51b-9b98-418a-8d8e-37f6fab59d8c         22   \n",
      "112  97b1142f-c71e-4971-8736-4a8ceaf6b4c3         22   \n",
      "113  4236acde-2ce2-441c-a3d4-38d55f1b5474         22   \n",
      "114  03ad1736-b7c9-412a-b442-82536d63a5c4         22   \n",
      "115  b625448e-bf4a-41c3-a421-72ad46cdb831         23   \n",
      "116  b972f589-fb0e-474e-b64a-803b0364fa75         23   \n",
      "117  c1d4f2ba-cf39-460c-9528-6b827d3417a1         23   \n",
      "118  109958eb-a335-4c5e-907e-597ff4c6af46         23   \n",
      "119  8e3fcd7d-bda1-4ca0-b987-b8528d2ee74e         23   \n",
      "120  65f4f0c5-ef9e-490c-aee3-909e7ae6b2ab         24   \n",
      "121  cc0b7089-c08d-4c10-b6b0-873582c17fd6         24   \n",
      "122  084308bd-1654-436f-ba03-df6697104e19         24   \n",
      "123  66fc5bf8-daa4-4241-b378-9bc9077939d2         24   \n",
      "124  b2d122f9-eadb-4930-a196-8f221eeb0c66         24   \n",
      "\n",
      "                       ArtistName                Tag  \n",
      "0                          Mayhem        black metal  \n",
      "1                        Converge           hardcore  \n",
      "2                       Gorgoroth        black metal  \n",
      "3                     Dir en grey             J-rock  \n",
      "4                         Caliban          metalcore  \n",
      "5     Godspeed You! Black Emperor          post-rock  \n",
      "6               Do Make Say Think          post-rock  \n",
      "7                         Cursive              indie  \n",
      "8                             Mew          seen live  \n",
      "9               The Dresden Dolls       punk cabaret  \n",
      "10             Taking Back Sunday                emo  \n",
      "11                   Fall Out Boy                emo  \n",
      "12                           NOFX               punk  \n",
      "13            Panic! At the Disco                emo  \n",
      "14         Dashboard Confessional                emo  \n",
      "15          Red Hot Chili Peppers               rock  \n",
      "16                      Radiohead        alternative  \n",
      "17                    The Beatles       classic rock  \n",
      "18                Nine Inch Nails         industrial  \n",
      "19                     Pink Floyd   Progressive rock  \n",
      "20                      The Roots            Hip-Hop  \n",
      "21                          Jay-Z            Hip-Hop  \n",
      "22                           2Pac                rap  \n",
      "23           A Tribe Called Quest            Hip-Hop  \n",
      "24                     Jurassic 5            Hip-Hop  \n",
      "25                 Kelly Clarkson                pop  \n",
      "26                        50 Cent                rap  \n",
      "27                     Snoop Dogg                rap  \n",
      "28                            ATB             trance  \n",
      "29                        Shakira                pop  \n",
      "..                            ...                ...  \n",
      "95                   Comeback Kid           hardcore  \n",
      "96                          Taake        black metal  \n",
      "97                      Throwdown           hardcore  \n",
      "98                        Madball           hardcore  \n",
      "99                  Haste the Day          metalcore  \n",
      "100                       Nirvana             Grunge  \n",
      "101           Death Cab for Cutie              indie  \n",
      "102                  Foo Fighters               rock  \n",
      "103             The White Stripes               rock  \n",
      "104            The Postal Service              indie  \n",
      "105                    The Sounds          seen live  \n",
      "106         Eagles of Death Metal               rock  \n",
      "107                  Electric Six               rock  \n",
      "108                       Phoenix              indie  \n",
      "109                Lady Sovereign              Grime  \n",
      "110                   Bright Eyes              indie  \n",
      "111                Sufjan Stevens              indie  \n",
      "112              The Decemberists              indie  \n",
      "113         Explosions in the Sky          post-rock  \n",
      "114                 Elliott Smith              indie  \n",
      "115                 John Coltrane               jazz  \n",
      "116       Wolfgang Amadeus Mozart          Classical  \n",
      "117                           Yes   Progressive rock  \n",
      "118  Creedence Clearwater Revival       classic rock  \n",
      "119                       Genesis   Progressive rock  \n",
      "120                     Metallica              metal  \n",
      "121              System of a Down              metal  \n",
      "122                     Green Day               rock  \n",
      "123                          Tool  Progressive metal  \n",
      "124                     Rammstein              metal  \n",
      "\n",
      "[125 rows x 4 columns]\n",
      "                                 ArtistID  ClusterID  \\\n",
      "0    7b2f87f6-db90-464e-a27a-deb4f7219e90          0   \n",
      "1    854a1807-025b-42a8-ba8c-2a39717f1d25          0   \n",
      "2    f2fb0ff0-5679-42ec-a55c-15109ce6e320          0   \n",
      "3    012e3432-71d3-4317-9ce5-b60cb6cdc38f          0   \n",
      "4    4ca783b7-5bf7-4348-b494-46680660050f          0   \n",
      "5    0039c7ae-e1a7-4a7d-9b49-0cbc716821a6          1   \n",
      "6    11ae9fbb-f3d7-4a47-936f-4c0a04d3b3b5          1   \n",
      "7    299278d3-25dd-4f30-bae4-5b571c28034d          1   \n",
      "8    6c8b9855-ba8b-48f9-ac1d-42167f7f7b18          1   \n",
      "9    8f92558c-2baa-4758-8c38-615519e9deda          1   \n",
      "10   5700dcd4-c139-4f31-aa3e-6382b9af9032          2   \n",
      "11   a1419808-65d3-4d40-998c-1a0bac65eabc          2   \n",
      "12   4d86ad4e-28d8-4e9f-8cf4-735c57060fdc          2   \n",
      "13   bf710b71-48e5-4e15-9bd6-96debb2e4e98          2   \n",
      "14   2aaf7396-6ab8-40f3-9776-a41c42c8e26b          2   \n",
      "15   a16d1433-ba89-4f72-a47b-a370add0bb55          3   \n",
      "16   13875f81-5bfc-4939-a6cc-296c3f8d0fa5          3   \n",
      "17   bd5d07eb-dcb8-4d11-b873-908401e92ee4          3   \n",
      "18   7e1666e2-b82d-40f6-98ff-920dc6fe3f8b          3   \n",
      "19   6546b116-81c8-4783-9219-19f6e8f3c020          3   \n",
      "20   e0953daa-860f-4dc8-9f1a-b12587cdaf17          4   \n",
      "21   13501c7d-d181-45ba-af52-5f101d8516a0          4   \n",
      "22   1dcc8968-f2cd-441c-beda-6270f70f2863          4   \n",
      "23   e938a15c-b17e-4e7a-9f68-ff0d536cab44          4   \n",
      "24   3f575ecd-627d-4f08-a89f-abd46d469c7e          4   \n",
      "25   5153eb0e-b6dd-4882-a24a-7d464c153962          5   \n",
      "26   1d3da898-4fb4-4445-b704-cd7315e01789          5   \n",
      "27   a043cfa6-6e87-4975-ac27-5005bdfa7afb          5   \n",
      "28   2841d983-f8c3-432a-af02-7407a84580a8          5   \n",
      "29   f5d56157-c5fe-490f-bf91-8d200e7f9b5f          5   \n",
      "..                                    ...        ...   \n",
      "216  b972f589-fb0e-474e-b64a-803b0364fa75         43   \n",
      "217  1f9df192-a621-4f54-8850-2c5373b7eac9         43   \n",
      "218  97b1142f-c71e-4971-8736-4a8ceaf6b4c3         44   \n",
      "219  a506f761-2c22-4b2f-8a94-bd748c2c8f75         44   \n",
      "220  c3f28da8-662d-4f09-bdc7-3084bf685930         44   \n",
      "221  eaf6a7ca-105d-4a94-ba02-8c3e4040319a         44   \n",
      "222  b91f0973-002e-4237-a39f-c7e02e786e53         44   \n",
      "223  d6ed7887-a401-47a8-893c-34b967444d26         45   \n",
      "224  90218af4-4d58-4821-8d41-2ee295ebbe21         45   \n",
      "225  82b304c0-7da4-45d3-896a-0767c7ae1141         45   \n",
      "226  0e0dd9da-5878-4c46-9a9a-6df43abb5c96         45   \n",
      "227  f82f3a3e-29c2-42ca-b589-bc5dc210fa9e         45   \n",
      "228  8e8c7417-c905-46b1-b42a-5260b4274ed4         46   \n",
      "229  f3b8e107-abe8-4743-b6a3-4a4ee995e71f         46   \n",
      "230  3af06bc4-68ad-4cae-bb7a-7eeeb45e411f         46   \n",
      "231  c7356af9-9ea6-4a78-a55b-c73775716312         46   \n",
      "232  67d2cb7a-9ddb-4a7f-82bf-5a2d1a038e98         46   \n",
      "233  09ff1fe8-d61c-4b98-bb82-18487c74d7b7         47   \n",
      "234  ad79836d-9849-44df-8789-180bbc823f3c         47   \n",
      "235  9b58672a-e68e-4972-956e-a8985a165a1f         47   \n",
      "236  b539e453-c4fe-47e3-8a07-8517eac74429         47   \n",
      "237  1932f5b6-0b7b-4050-b1df-833ca89e5f44         47   \n",
      "238  164f0d73-1234-4e2c-8743-d77bf2191051         48   \n",
      "239  dfe9a7c4-8cf2-47f4-9dcb-d233c2b86ec3         48   \n",
      "240  a47c3aa2-7d87-475c-a2c7-1e2047dafb09         48   \n",
      "241  b4b6743e-45b2-4c36-bcde-e5037ffa0b7a         49   \n",
      "242  5533fa1c-4102-4ae7-92ae-78dddb17fe7f         49   \n",
      "243  52d858dc-d61d-4572-b70f-cc467d1612d8         49   \n",
      "244  37ea73dd-a48c-4659-8b9d-5c77bd9cbd12         49   \n",
      "245  656a7ed6-fb23-4bc3-a7f2-90406ca86fc9         49   \n",
      "\n",
      "                   ArtistName               Tag  \n",
      "0                       dredg  Progressive rock  \n",
      "1           Breaking Benjamin              rock  \n",
      "2                   Die Ärzte              punk  \n",
      "3                  The Rasmus              rock  \n",
      "4                  Stone Sour             metal  \n",
      "5         Death Cab for Cutie             indie  \n",
      "6           The White Stripes              rock  \n",
      "7          The Postal Service             indie  \n",
      "8                   The Shins             indie  \n",
      "9                   The Clash              punk  \n",
      "10                  Kraftwerk        electronic  \n",
      "11                  The Faint             indie  \n",
      "12               Squarepusher        electronic  \n",
      "13                  The Knife        electronic  \n",
      "14            LCD Soundsystem        electronic  \n",
      "15                        BoA             j-pop  \n",
      "16                     Astrix         psytrance  \n",
      "17                     Rank 1            trance  \n",
      "18                  Talamasca         psytrance  \n",
      "19                 Kai Tracid            trance  \n",
      "20                   Tortoise         post-rock  \n",
      "21                        Can         krautrock  \n",
      "22                       Hole            Grunge  \n",
      "23   The Jesus and Mary Chain         post-punk  \n",
      "24                       Ride          shoegaze  \n",
      "25               Red Sparowes         post-rock  \n",
      "26                  Sunn O)))             drone  \n",
      "27                 Tiger Army       psychobilly  \n",
      "28                    Merzbow             noise  \n",
      "29               The Toasters               ska  \n",
      "..                        ...               ...  \n",
      "216   Wolfgang Amadeus Mozart         Classical  \n",
      "217      Ludwig van Beethoven         Classical  \n",
      "218          The Decemberists             indie  \n",
      "219        Neutral Milk Hotel             indie  \n",
      "220               Iron & Wine             indie  \n",
      "221                Rilo Kiley             indie  \n",
      "222  Architecture in Helsinki             indie  \n",
      "223                   Ramones              punk  \n",
      "224             Kaiser Chiefs             indie  \n",
      "225            The Libertines             indie  \n",
      "226              Hot Hot Heat             indie  \n",
      "227                 The Kooks             indie  \n",
      "228           Thelonious Monk              jazz  \n",
      "229            Charles Mingus              jazz  \n",
      "230            Duke Ellington              jazz  \n",
      "231            Charlie Parker              jazz  \n",
      "232               Diana Krall              jazz  \n",
      "233           Frédéric Chopin         Classical  \n",
      "234           Antonio Vivaldi         Classical  \n",
      "235              Howard Shore        Soundtrack  \n",
      "236                    宇多田ヒカル             j-pop  \n",
      "237                 Marillion  Progressive rock  \n",
      "238                Kanye West           Hip-Hop  \n",
      "239             Amy Winehouse              jazz  \n",
      "240                       NaN               NaN  \n",
      "241                 Nargaroth       black metal  \n",
      "242           Subway to Sally        folk metal  \n",
      "243                     Taake       black metal  \n",
      "244          Deathspell Omega       black metal  \n",
      "245          Nokturnal Mortum       black metal  \n",
      "\n",
      "[246 rows x 4 columns]\n"
     ]
    }
   ],
   "source": [
    "# Return a data structure that contains cluster_id, list of top 5 tags for every cluster\n",
    "def assign_cluster_tags(joined_data):\n",
    "    #gp = joined_data.groupby(['ClusterID','Tag']).count()\n",
    "    #gp_sorted = gp.sort_values('Count', ascending=False)\n",
    "    #gp_sorted = gp_sorted.reset_index(level='ClusterID')\n",
    "    #gp_2_sorted = gp_sorted.groupby(['ClusterID'])\n",
    "    #print gp_2_sorted.max()\n",
    "    \n",
    "    #gp= joined_data.groupby(['ClusterID','Tag'])['Count'].nlargest(5)\n",
    "    #gp= gp.reset_index(level=1, drop=True)\n",
    "    \n",
    "    \n",
    "    #this one was partially working \n",
    "    #gp = joined_data.groupby(['ClusterID','Tag','Count']).size().reset_index(level = ['ClusterID', 'Tag','Count'])\n",
    "    #gp_sort = gp.sort_values(['ClusterID','Count'], ascending=False).reset_index(level = ['ClusterID', 'Tag'])\n",
    "    \n",
    "    #print gp_sort\n",
    "    \n",
    "    \n",
    "    \n",
    "    gp = (joined_data.assign(rn=joined_data.sort_values(['Count'], ascending=False).groupby(['ClusterID']).cumcount() + 1).query('rn < 6').sort_values(['ClusterID','rn']))\n",
    "    gp = gp.drop(gp.columns[4], axis=1)\n",
    "    gp = gp.drop(gp.columns[4], axis=1)\n",
    "    gp = gp.reset_index(level=None, drop=True)\n",
    "    \n",
    "    #gp = gp.merge(joined_data, how='left', on=['ArtistID', 'ClusterID', 'ArtistName', 'Tag'])\n",
    "    print gp\n",
    "    return gp\n",
    "\n",
    "#print len(top_tags), len(user_art_mat)\n",
    "kmeans_5_genres = assign_cluster_tags(kmeans_5_joined)\n",
    "kmeans_25_genres = assign_cluster_tags(kmeans_25_joined)\n",
    "kmeans_50_genres = assign_cluster_tags(kmeans_50_joined)"
   ]
  },
  {
   "cell_type": "markdown",
   "metadata": {},
   "source": [
    "#### Purity and Accuracy\n",
    "Two commonly used metrics used for evaluating clustering using external labels are purity and accuracy. **Purity** measures the frequency of data belonging to the same cluster sharing the same class label i.e. if we have a number of items in a cluster how many of those items have the same label ? Meanwhile, **accuracy** measures the frequency of data from the same class appearing in a single cluster i.e. of all the items which have a particular label what fraction appear in the same cluster ?\n",
    "\n",
    ">NOTE: This is similar to precision and recall that we looked at in the previous assignment. Purity here makes sure that our clusters have mostly homogeneous labels while accuracy make sure that our labels are not spread out over too many clusters."
   ]
  },
  {
   "cell_type": "markdown",
   "metadata": {},
   "source": [
    "**d**. Compute the purity for each of our K-Means models. To do this find the top tags of all artists that belong to a cluster. Check what fraction of these tags are covered by the top 5 tags of the cluster. Average this value across all clusters. **HINT**: We used similar ideas to get the top 5 tags in a cluster. "
   ]
  },
  {
   "cell_type": "code",
   "execution_count": 115,
   "metadata": {
    "collapsed": false
   },
   "outputs": [
    {
     "name": "stdout",
     "output_type": "stream",
     "text": [
      "Purity for KMeans with 5 centers 0.000000 \n",
      "Purity for KMeans with 25 centers 0.000000 \n",
      "Purity for KMeans with 50 centers 0.000000 \n"
     ]
    }
   ],
   "source": [
    "def get_cluster_purity(joined_data):\n",
    "    joined_data_df = joined_data['ClusterID', 'Tags']\n",
    "    print joined_data_df\n",
    "    \n",
    "print \"Purity for KMeans with 5 centers %lf \" % 0.0\n",
    "print \"Purity for KMeans with 25 centers %lf \" % 0.0\n",
    "print \"Purity for KMeans with 50 centers %lf \" % 0.0"
   ]
  },
  {
   "cell_type": "markdown",
   "metadata": {},
   "source": [
    "**e**. To compute the accuracy first get all the unique tags from *top_tags*. Then for each tag, compute how many artists are found in the largest cluster. We denote these as correct cluster assignments. For example, lets take a tag 'rock'. If there are 100 artists with tag 'rock' and say 90 of them are in one cluster while 10 of them are in another. Then we have 90 correct cluster assignments\n",
    "\n",
    "Add the number of correct cluster assignments for all tags and divide this by the total size of the training data to get the accuracy for a model."
   ]
  },
  {
   "cell_type": "code",
   "execution_count": 13,
   "metadata": {
    "collapsed": false
   },
   "outputs": [
    {
     "name": "stdout",
     "output_type": "stream",
     "text": [
      "Accuracy of KMeans with 5 centers 0.000000 \n",
      "Accuracy of KMeans with 25 centers 0.000000 \n",
      "Accuracy of KMeans with 50 centers 0.000000 \n"
     ]
    }
   ],
   "source": [
    "def get_accuracy(joined_data):\n",
    "    pass\n",
    "    \n",
    "print \"Accuracy of KMeans with 5 centers %lf \" % 0.0\n",
    "print \"Accuracy of KMeans with 25 centers %lf \" % 0.0\n",
    "print \"Accuracy of KMeans with 50 centers %lf \" % 0.0"
   ]
  },
  {
   "cell_type": "markdown",
   "metadata": {},
   "source": [
    "**f.** What do the numbers tell you about the models? Do you have a favorite?"
   ]
  },
  {
   "cell_type": "markdown",
   "metadata": {},
   "source": [
    ">TODO: Your answer here."
   ]
  },
  {
   "cell_type": "markdown",
   "metadata": {},
   "source": [
    "### 1.5 Evaluating Test Data\n",
    "Finally we can treat the clustering model as a multi-class classifier and make predictions on external test data. To do this we load the test data file **userart-mat-test.csv** and for every artist in the file we use the K-Means model to predict a cluster. We mark our prediction as successful if the artist's top tag belongs to one of the five tags for the cluster. \n",
    "\n",
    "#### Exercise 5"
   ]
  },
  {
   "cell_type": "markdown",
   "metadata": {},
   "source": [
    "**a** Load the testdata file and create a NumPy matrix named user_np_matrix_test."
   ]
  },
  {
   "cell_type": "code",
   "execution_count": 14,
   "metadata": {
    "collapsed": false
   },
   "outputs": [
    {
     "data": {
      "text/plain": [
       "(1902, 846)"
      ]
     },
     "execution_count": 14,
     "metadata": {},
     "output_type": "execute_result"
    }
   ],
   "source": [
    "user_art_mat_test = parse_user_artists_matrix(DATA_PATH + \"/userart-mat-test.csv\")\n",
    "# NOTE: the astype(float) converts integer to floats here\n",
    "user_np_matrix_test = create_user_matrix(user_art_mat_test).astype(float)\n",
    "\n",
    "user_np_matrix_test.shape # Should be (1902, 846)"
   ]
  },
  {
   "cell_type": "markdown",
   "metadata": {},
   "source": [
    "**b.** For each artist in the test set, call **[predict](http://scikit-learn.org/stable/modules/generated/sklearn.cluster.KMeans.html#sklearn.cluster.KMeans.predict)** to get the predicted cluster. Join the predicted labels with test artist ids. Return 'artist_id', 'predicted_label' for every artist in the test dataset."
   ]
  },
  {
   "cell_type": "code",
   "execution_count": 15,
   "metadata": {
    "collapsed": false
   },
   "outputs": [],
   "source": [
    "# For every artist return a list of labels\n",
    "def predict_cluster(test_data, test_np_matrix, kmeans_model):\n",
    "    predicted_df= pd.DataFrame(kmeans_model.predict(test_np_matrix))\n",
    "    predicted_df.columns = ['ClusterID']\n",
    "    ArtistID_df= test_data.ArtistID.to_frame()\n",
    "    return ArtistID_df.join(predicted_df, how='outer')\n",
    "    \n",
    "\n",
    "# Call the function for every model from before\n",
    "kmeans_5_predicted = predict_cluster(user_art_mat_test, user_np_matrix_test, kmeans_5)\n",
    "kmeans_25_predicted = predict_cluster(user_art_mat_test, user_np_matrix_test, kmeans_25)\n",
    "kmeans_50_predicted = predict_cluster(user_art_mat_test, user_np_matrix_test, kmeans_50)\n"
   ]
  },
  {
   "cell_type": "markdown",
   "metadata": {},
   "source": [
    "**c**. Get the tags for the predicted genre and the tag for the artist from `top_tags`. Output the percentage of artists for whom the top tag is one of the five that describe its cluster. This is the *recall* of our model.\n",
    ">NOTE: Since the tag data is not from the same source as user plays, there are artists in the test set for whom we do not have top tags. You should exclude these artists while making predictions and while computing the recall."
   ]
  },
  {
   "cell_type": "code",
   "execution_count": 16,
   "metadata": {
    "collapsed": false
   },
   "outputs": [],
   "source": [
    "from __future__ import division\n",
    "# Calculate recall for our predictions\n",
    "def verify_predictions(predicted_artist_labels, cluster_genres, top_tag_data):\n",
    "    import re\n",
    "    test_tags= pd.merge(predicted_artist_labels ,top_tags, how='left', on='ArtistID')\n",
    "    test_tags= test_tags[test_tags.ArtistName.notnull()]\n",
    "    test_tags= test_tags.reset_index(level=None, drop=True)\n",
    "    test_tags =test_tags.drop(test_tags.columns[4], axis=1)\n",
    "    #print test_tags\n",
    "    count = 0\n",
    "    for row in test_tags.iterrows():\n",
    "        index,data = row\n",
    "        cid= data['ClusterID']\n",
    "        cg = cluster_genres[cluster_genres.ClusterID == cid]\n",
    "        ctag = data['Tag']\n",
    "        st = cg.Tag.to_string(index = False)\n",
    "        #st = [x.strip() for x in st.split(',')]\n",
    "        \n",
    "        split_regex = r'\\W+'\n",
    "        stu = [s for s in re.split(split_regex,st) if s]\n",
    "        #print stu\n",
    "        if ctag in stu:\n",
    "            count = count +1\n",
    "    return count / len(test_tags)\n",
    "        \n",
    "    \n",
    "        \n",
    "    \n",
    "    \n",
    "    #print test_tags[test_tags.ClusterID == 0], cluster_genres[cluster_genres.ClusterID == 0]\n",
    "    \n",
    "    \n",
    "\n"
   ]
  },
  {
   "cell_type": "markdown",
   "metadata": {},
   "source": [
    "**d**. Print the recall for each KMeans model. We define recall as num_correct_predictions / num_artists_in_test_data"
   ]
  },
  {
   "cell_type": "code",
   "execution_count": 17,
   "metadata": {
    "collapsed": false
   },
   "outputs": [
    {
     "name": "stdout",
     "output_type": "stream",
     "text": [
      "Recall of KMeans with 5 centers 0.038198 \n",
      "Recall of KMeans with 25 centers 0.072478 \n",
      "Recall of KMeans with 50 centers 0.084231 \n"
     ]
    }
   ],
   "source": [
    "# Use verify_predictions for every model\n",
    "print \"Recall of KMeans with 5 centers %lf \" % verify_predictions(kmeans_5_predicted, kmeans_5_genres, top_tags)\n",
    "print \"Recall of KMeans with 25 centers %lf \" % verify_predictions(kmeans_5_predicted, kmeans_25_genres, top_tags)\n",
    "print \"Recall of KMeans with 50 centers %lf \" % verify_predictions(kmeans_5_predicted, kmeans_50_genres, top_tags)"
   ]
  },
  {
   "cell_type": "markdown",
   "metadata": {},
   "source": [
    "### 1.5 Visualizing Clusters using PCA\n",
    "\n",
    "Another way to evaluate clustering is to visualize the output of clustering. However the data we are working with is in 846 dimensions !, so it is hard to visualize or plot this. Thus the first step for visualization is to reduce the dimensionality of the data. To do this we can use [Prinicipal Component Analysis (PCA)](http://en.wikipedia.org/wiki/Principal_component_analysis). PCA reduces the dimension of data and keeps only the most significant components of it. This is a commonly used technique to visualize data from high dimensional spaces.\n",
    "\n",
    ">**NOTE**: We use [RandomizedPCA](http://scikit-learn.org/stable/modules/decomposition.html#approximate-pca), an approximate version of the algorithm as this has lower memory requirements. The approximate version is good enough when we are reducing to a few dimensions (2 in this case). We also sample the input data before PCA to further reduce memory requirements.\n",
    "\n",
    "#### Exercise 6\n",
    "\n",
    "**a**. Calcluate the RandomizedPCA of the sampled training data set `sampled_data` and reduce it to 2 components. Use the [fit_transform](http://scikit-learn.org/stable/modules/generated/sklearn.decomposition.RandomizedPCA.html#sklearn.decomposition.RandomizedPCA.fit_transform) method to do this."
   ]
  },
  {
   "cell_type": "code",
   "execution_count": 18,
   "metadata": {
    "collapsed": false
   },
   "outputs": [
    {
     "name": "stdout",
     "output_type": "stream",
     "text": [
      "[[-1.223469    0.03644421]\n",
      " [-1.04755366 -0.02560867]\n",
      " [ 0.832025   -0.16490276]\n",
      " ..., \n",
      " [ 0.98149178  0.15871248]\n",
      " [-0.32073354 -0.05973331]\n",
      " [-1.19069836  0.03326389]]\n"
     ]
    }
   ],
   "source": [
    "from sklearn.decomposition import RandomizedPCA\n",
    "import numpy as np\n",
    "\n",
    "sample_percent = 0.20\n",
    "rows_to_sample = int(np.ceil(sample_percent * user_np_matrix.shape[0]))\n",
    "sampled_data = user_np_matrix[np.random.choice(user_np_matrix.shape[0], rows_to_sample, replace=False),:]\n",
    "# Return the data reduced to 2 principal components\n",
    "def get_reduced_data(input_data):\n",
    "    pca = RandomizedPCA(n_components=2)\n",
    "    return pca.fit_transform(input_data)\n",
    "    \n",
    "    \n",
    "\n",
    "user_np_2d = get_reduced_data(sampled_data)\n",
    "print user_np_2d"
   ]
  },
  {
   "cell_type": "markdown",
   "metadata": {},
   "source": [
    "**b**. Fit the reduced data with the KMeans model with 5 cluster centers. Plot the cluster centers and all the points. Make sure to color points in every cluster differently to see a visual separation. You may find [`scatter`](http://matplotlib.org/api/pyplot_api.html#matplotlib.pyplot.scatter) and [`plot`](http://matplotlib.org/api/pyplot_api.html#matplotlib.pyplot.plot) functions from matplotlib to be useful.\n"
   ]
  },
  {
   "cell_type": "code",
   "execution_count": 27,
   "metadata": {
    "collapsed": false
   },
   "outputs": [
    {
     "data": {
      "image/png": "[encoded data removed]",
      "text/plain": [
       "<matplotlib.figure.Figure at 0xd5e4210>"
      ]
     },
     "metadata": {},
     "output_type": "display_data"
    },
    {
     "name": "stdout",
     "output_type": "stream",
     "text": [
      "Populating the interactive namespace from numpy and matplotlib\n"
     ]
    }
   ],
   "source": [
    "import pylab as pl\n",
    "import matplotlib.pyplot as plt\n",
    "# TODO: Write code to fit and plot reduced_data.\n",
    "kmeans_5_sampled = KMeans(n_init=1, n_clusters=5).fit(user_np_2d)\n",
    "user_df = pd.DataFrame(user_np_2d, columns=['X', 'Y'])\n",
    "sampled_labels_df = pd.DataFrame(kmeans_5_sampled.labels_, columns=['ClusterID'])\n",
    "user_labels_df = user_df.join(sampled_labels_df, how='outer')\n",
    "#print user_labels_df\n",
    "colormap = np.array(['red', 'blue', 'green', 'yellow', 'purple'])\n",
    "\n",
    "\n",
    "#print kmeans_5_sampled.cluster_centers_[:,0], kmeans_5_sampled.cluster_centers_[:,1], len(user_np_2d), len(kmeans_5_sampled.labels_)\n",
    "plt.scatter(kmeans_5_sampled.cluster_centers_[:,0],  kmeans_5_sampled.cluster_centers_[:,1], c='silver')\n",
    "plt.scatter(user_labels_df.X, user_labels_df.Y, c=colormap[user_labels_df.ClusterID])\n",
    "plt.show()\n",
    "%pylab inline"
   ]
  },
  {
   "cell_type": "markdown",
   "metadata": {},
   "source": [
    "# Part 2 - Regression Models - Predicting Song Popularity\n",
    "\n",
    "In this section of the assignment you'll be building a model to predict the number of plays a song will get. Again, we're going to be using scikit-learn to train and evaluate regression models, and pandas to pre-process the data.\n",
    "\n",
    "In the process, you'll encounter some modeling challenges and we'll look at how to deal with them.\n",
    "\n",
    "We've started with the same data as above, but this time we've pre-computed a number of song statistics for you.\n",
    "\n",
    "These are:\n",
    "\n",
    "1. plays - the number of times a song has been played.\n",
    "1. pctmale - percentage of the plays that came from users who self-identified as \"male\".\n",
    "1. age - average age of the listener.\n",
    "1. country1 - the country of the users that listened to this song most.\n",
    "1. country2 - the country of the users that listened to this song second most.\n",
    "1. country3 - the country of the users that listened to this song third most.\n",
    "1. pctgt1 - Percentage of plays that come from a user who's played the song more than once.\n",
    "1. pctgt2 - Percentage of plays that come from a user who's played the song more than twice.\n",
    "1. pctgt5 - Percentage of plays that come from a user who's played the song more than five times.\n",
    "1. cluster - The \"cluster number\" of the artist associated with this song - similar to what you came up with above. We chose 25 clusters fairly arbitrarily.\n",
    "\n",
    "### 2.1 Data Exploration\n",
    "#### Exercise 7\n",
    "\n",
    "**a**. Let's start by loading up the data - we've provided a \"training set\" and a \"validation set\" for you to test your models on. The training set are the examples that we use to create our models, while the validation set is a dataset we \"hold out\" from the model fitting process, we use these examples to test whether our models accurately predict new data.\n"
   ]
  },
  {
   "cell_type": "code",
   "execution_count": 30,
   "metadata": {
    "collapsed": false
   },
   "outputs": [
    {
     "name": "stdout",
     "output_type": "stream",
     "text": [
      "Populating the interactive namespace from numpy and matplotlib\n"
     ]
    }
   ],
   "source": [
    "%pylab inline\n",
    "import pandas as pd\n",
    "\n",
    "train = pd.read_csv(DATA_PATH + \"/train_model_data.csv\")\n",
    "validation = pd.read_csv(DATA_PATH + \"/validation_model_data.csv\")"
   ]
  },
  {
   "cell_type": "markdown",
   "metadata": {},
   "source": [
    "Now that you've got the data loaded, play around with it, generate some descriptive statistics, and get a feel for what's in the data set. For the categorical variables try pandas \".count_values()\" on them to get a sense of the most likely distributions (countries, etc.). \n",
    "\n",
    "**b**. In the next cell put some commands you ran to get a feel for the data."
   ]
  },
  {
   "cell_type": "code",
   "execution_count": 49,
   "metadata": {
    "collapsed": false
   },
   "outputs": [
    {
     "name": "stdout",
     "output_type": "stream",
     "text": [
      "artid           object\n",
      "key             object\n",
      "plays            int64\n",
      "pctmale        float64\n",
      "age            float64\n",
      "country1        object\n",
      "country2        object\n",
      "country3        object\n",
      "pctgt1         float64\n",
      "pctgt2         float64\n",
      "pctgt5         float64\n",
      "account_age    float64\n",
      "cluster          int64\n",
      "dtype: object\n",
      "(108537, 13)\n"
     ]
    },
    {
     "data": {
      "text/html": [
       "<div>\n",
       "<table border=\"1\" class=\"dataframe\">\n",
       "  <thead>\n",
       "    <tr style=\"text-align: right;\">\n",
       "      <th></th>\n",
       "      <th>artid</th>\n",
       "      <th>key</th>\n",
       "      <th>plays</th>\n",
       "      <th>pctmale</th>\n",
       "      <th>age</th>\n",
       "      <th>country1</th>\n",
       "      <th>country2</th>\n",
       "      <th>country3</th>\n",
       "      <th>pctgt1</th>\n",
       "      <th>pctgt2</th>\n",
       "      <th>pctgt5</th>\n",
       "      <th>account_age</th>\n",
       "      <th>cluster</th>\n",
       "    </tr>\n",
       "  </thead>\n",
       "  <tbody>\n",
       "    <tr>\n",
       "      <th>0</th>\n",
       "      <td>0004537a-4b12-43eb-a023-04009e738d2e</td>\n",
       "      <td>0004537a-4b12-43eb-a023-04009e738d2e 5c9d317f-...</td>\n",
       "      <td>40</td>\n",
       "      <td>0.675000</td>\n",
       "      <td>31.0</td>\n",
       "      <td>United Kingdom</td>\n",
       "      <td>Estonia</td>\n",
       "      <td>United States</td>\n",
       "      <td>0.583333</td>\n",
       "      <td>0.333333</td>\n",
       "      <td>0.25</td>\n",
       "      <td>954.125000</td>\n",
       "      <td>5</td>\n",
       "    </tr>\n",
       "    <tr>\n",
       "      <th>1</th>\n",
       "      <td>000d90ec-d64c-48a1-b775-e726fd240e9f</td>\n",
       "      <td>000d90ec-d64c-48a1-b775-e726fd240e9f 09d9e9a6-...</td>\n",
       "      <td>53</td>\n",
       "      <td>0.735849</td>\n",
       "      <td>20.6</td>\n",
       "      <td>United Kingdom</td>\n",
       "      <td>United States</td>\n",
       "      <td>Belgium</td>\n",
       "      <td>0.600000</td>\n",
       "      <td>0.600000</td>\n",
       "      <td>0.60</td>\n",
       "      <td>625.113208</td>\n",
       "      <td>11</td>\n",
       "    </tr>\n",
       "    <tr>\n",
       "      <th>2</th>\n",
       "      <td>000d90ec-d64c-48a1-b775-e726fd240e9f</td>\n",
       "      <td>000d90ec-d64c-48a1-b775-e726fd240e9f 40064f18-...</td>\n",
       "      <td>45</td>\n",
       "      <td>0.622222</td>\n",
       "      <td>21.0</td>\n",
       "      <td>United Kingdom</td>\n",
       "      <td>United States</td>\n",
       "      <td>NaN</td>\n",
       "      <td>0.600000</td>\n",
       "      <td>0.600000</td>\n",
       "      <td>0.60</td>\n",
       "      <td>552.933333</td>\n",
       "      <td>11</td>\n",
       "    </tr>\n",
       "    <tr>\n",
       "      <th>3</th>\n",
       "      <td>000d90ec-d64c-48a1-b775-e726fd240e9f</td>\n",
       "      <td>000d90ec-d64c-48a1-b775-e726fd240e9f 31bb65fd-...</td>\n",
       "      <td>40</td>\n",
       "      <td>0.600000</td>\n",
       "      <td>20.0</td>\n",
       "      <td>United Kingdom</td>\n",
       "      <td>United States</td>\n",
       "      <td>NaN</td>\n",
       "      <td>0.600000</td>\n",
       "      <td>0.400000</td>\n",
       "      <td>0.40</td>\n",
       "      <td>482.325000</td>\n",
       "      <td>11</td>\n",
       "    </tr>\n",
       "    <tr>\n",
       "      <th>4</th>\n",
       "      <td>000d90ec-d64c-48a1-b775-e726fd240e9f</td>\n",
       "      <td>000d90ec-d64c-48a1-b775-e726fd240e9f bbb0815e-...</td>\n",
       "      <td>56</td>\n",
       "      <td>0.714286</td>\n",
       "      <td>20.0</td>\n",
       "      <td>United Kingdom</td>\n",
       "      <td>United States</td>\n",
       "      <td>NaN</td>\n",
       "      <td>0.600000</td>\n",
       "      <td>0.400000</td>\n",
       "      <td>0.40</td>\n",
       "      <td>449.678571</td>\n",
       "      <td>11</td>\n",
       "    </tr>\n",
       "  </tbody>\n",
       "</table>\n",
       "</div>"
      ],
      "text/plain": [
       "                                  artid  \\\n",
       "0  0004537a-4b12-43eb-a023-04009e738d2e   \n",
       "1  000d90ec-d64c-48a1-b775-e726fd240e9f   \n",
       "2  000d90ec-d64c-48a1-b775-e726fd240e9f   \n",
       "3  000d90ec-d64c-48a1-b775-e726fd240e9f   \n",
       "4  000d90ec-d64c-48a1-b775-e726fd240e9f   \n",
       "\n",
       "                                                 key  plays   pctmale   age  \\\n",
       "0  0004537a-4b12-43eb-a023-04009e738d2e 5c9d317f-...     40  0.675000  31.0   \n",
       "1  000d90ec-d64c-48a1-b775-e726fd240e9f 09d9e9a6-...     53  0.735849  20.6   \n",
       "2  000d90ec-d64c-48a1-b775-e726fd240e9f 40064f18-...     45  0.622222  21.0   \n",
       "3  000d90ec-d64c-48a1-b775-e726fd240e9f 31bb65fd-...     40  0.600000  20.0   \n",
       "4  000d90ec-d64c-48a1-b775-e726fd240e9f bbb0815e-...     56  0.714286  20.0   \n",
       "\n",
       "         country1       country2       country3    pctgt1    pctgt2  pctgt5  \\\n",
       "0  United Kingdom        Estonia  United States  0.583333  0.333333    0.25   \n",
       "1  United Kingdom  United States        Belgium  0.600000  0.600000    0.60   \n",
       "2  United Kingdom  United States            NaN  0.600000  0.600000    0.60   \n",
       "3  United Kingdom  United States            NaN  0.600000  0.400000    0.40   \n",
       "4  United Kingdom  United States            NaN  0.600000  0.400000    0.40   \n",
       "\n",
       "   account_age  cluster  \n",
       "0   954.125000        5  \n",
       "1   625.113208       11  \n",
       "2   552.933333       11  \n",
       "3   482.325000       11  \n",
       "4   449.678571       11  "
      ]
     },
     "execution_count": 49,
     "metadata": {},
     "output_type": "execute_result"
    }
   ],
   "source": [
    "# TODO: Your commands for data exploration here.\n",
    "train.columns\n",
    "print train.dtypes\n",
    "\n",
    "print train.shape\n",
    "train.country1.describe, train.country2.count\n",
    "train.head()\n",
    "validation.head()\n"
   ]
  },
  {
   "cell_type": "markdown",
   "metadata": {},
   "source": [
    "**c**. Next, create a pairwise scatter plot of the columns: plays, pctmale, age, pctgt1, pctgt2, pctgt5.\n",
    "\n",
    "Do you notice anything about the data in this view? What about the relationship between plays and other columns?"
   ]
  },
  {
   "cell_type": "code",
   "execution_count": 43,
   "metadata": {
    "collapsed": false
   },
   "outputs": [
    {
     "data": {
      "text/plain": [
       "<matplotlib.collections.PathCollection at 0x12c804f0>"
      ]
     },
     "execution_count": 43,
     "metadata": {},
     "output_type": "execute_result"
    },
    {
     "data": {
      "image/png": "[encoded data removed]",
      "text/plain": [
       "<matplotlib.figure.Figure at 0x12ca00f0>"
      ]
     },
     "metadata": {},
     "output_type": "display_data"
    }
   ],
   "source": [
    "plt.scatter(train.age, train.pctgt1)\n"
   ]
  },
  {
   "cell_type": "markdown",
   "metadata": {},
   "source": [
    ">When plotting a scatter plot of plays against age, the most & highest plays are done by people between age 10 and 40. \n",
    "> When plotting a scatter plot of plays against plays for the first time, it says that almost 70% artist gets played for an average 3000 times\n",
    "> This ratio decreases to 60% when songs are played for the second time, but average remains the same. \\\n",
    "> The ratio further decreses to 30 - 35% when songs are played 5 times. "
   ]
  },
  {
   "cell_type": "markdown",
   "metadata": {},
   "source": [
    "###2.2 Data Prep and Intro to Linear Regression\n",
    "\n",
    "*scikit-learn* does a number of things very well, but one of the things it doesn't handle easily is categorical or missing data. Categorical data is data that can take on a finite set of values, e.g. a categorical variable might be the color of a stop light (Red, Yellow, Green), this is in contrast with continuous variables like real numbers in the range -Infinity to +Infinity. There is another common type of data called \"ordinal\" that can be thought of as categorical data that has a natural ordering, like: Cold, Warm, Hot. We won't be dealing with this kind of data here, but having that kind of ranking opens up the use of certain other statistical methods.\n",
    "\n",
    "\n",
    "#### Exercise 8\n",
    "\n",
    "**a**. For the first part of the exercise, let's eliminate categorical variables, and *impute* missing values with pandas. Write a function to drop all categorical variables from the data set, and return two pandas data frames:\n",
    "\n",
    "1. A data frame with all categorical items and a user-specified response column removed.\n",
    "2. A data frame that contains only the response column."
   ]
  },
  {
   "cell_type": "code",
   "execution_count": 56,
   "metadata": {
    "collapsed": false
   },
   "outputs": [
    {
     "name": "stdout",
     "output_type": "stream",
     "text": [
      "0          51\n",
      "1          41\n",
      "2         183\n",
      "3          32\n",
      "4          43\n",
      "5          28\n",
      "6         131\n",
      "7          42\n",
      "8          28\n",
      "9          29\n",
      "10         35\n",
      "11         42\n",
      "12         35\n",
      "13         27\n",
      "14         51\n",
      "15         69\n",
      "16         58\n",
      "17         39\n",
      "18         35\n",
      "19         36\n",
      "20         43\n",
      "21         76\n",
      "22         87\n",
      "23         33\n",
      "24        105\n",
      "25         81\n",
      "26         31\n",
      "27         53\n",
      "28         49\n",
      "29         78\n",
      "         ... \n",
      "108507     76\n",
      "108508     73\n",
      "108509     92\n",
      "108510    147\n",
      "108511    257\n",
      "108512     38\n",
      "108513     31\n",
      "108514     26\n",
      "108515    116\n",
      "108516     57\n",
      "108517     55\n",
      "108518     95\n",
      "108519    122\n",
      "108520    106\n",
      "108521    105\n",
      "108522    104\n",
      "108523     58\n",
      "108524    197\n",
      "108525    113\n",
      "108526     64\n",
      "108527     26\n",
      "108528     70\n",
      "108529     94\n",
      "108530     88\n",
      "108531     83\n",
      "108532     89\n",
      "108533     66\n",
      "108534     86\n",
      "108535    128\n",
      "108536     72\n",
      "Name: plays, dtype: int64\n"
     ]
    }
   ],
   "source": [
    "def basic_prep(data, col):\n",
    "    #TODO - make a copy of the original dataset but with the categorical variables removed! *Cluster* should be thought of as a \n",
    "    #categorical variable and should be removed! Make use of pandas \".drop\" function.\n",
    "    \n",
    "    #TODO - impute missing values with the mean of those columns, use pandas \".fillna\" function to accomplish this.\n",
    "    df1 = data.drop(data.columns[[0, 1, 2, 5, 6, 7, 12]], axis=1)\n",
    "    #df1 = df1.drop(col, axis=1)\n",
    "    df1 = df1.fillna(df1.mean())\n",
    "    df2 = data[col]\n",
    "    \n",
    "    #print df1, df2\n",
    "    return df1, df2\n",
    "    pass\n",
    "\n",
    "#This will create two new data frames, one that contains training data - in this case all the numeric columns,\n",
    "#and one that contains response data - in this case, the \"plays\" column.\n",
    "train_basic_features, train_basic_response = basic_prep(train, 'plays')\n",
    "validation_basic_features, validation_basic_response = basic_prep(validation, 'plays')\n",
    "\n",
    "print train_basic_response"
   ]
  },
  {
   "cell_type": "markdown",
   "metadata": {},
   "source": [
    "Now, we're going to train a linear regression model. This is likely the most widely used model for fitting data out there today - you've probably seen it before, maybe even used it in Excel. The goal of linear modeling, is to fit a **linear equation** that maps a set of **input features** to a numerical **response**. This equation is called a **model**, and can be used to make predictions about the response of similar input features. For example, imagine we have a dataset of electricity prices ($p$) and outdoor temperature ($t$), and we want to predict, given temperature, what electricity price will be. A simple way to model this is with an equation that looks something like $p = basePrice + factor*t$. When we **fit** a model, we are estimating the parameters ($basePrice$ and $factor$) that best fit our data. This is a very simple linear model, but you can easily imagine extending this to situations where you need to estimate several parameters.\n",
    "\n",
    ">**Note**: It is possible to fill a semester with linear models (and classes in other departments do!), and there are innumerable issues to be aware of when you fit linear models, so this is just the tip of the iceberg - don't dismiss linear models outright based on your experiences here!\n",
    "\n",
    "A linear model models the data as a **linear combination** of the model and its weights. Typically, the model is written with something like the following form: $y = X\\theta + \\epsilon$, and when we fit the model, we are trying to find the value of $\\theta$ that minimizes the **loss** of the model. In the case of regression models, the loss is often represented as $\\sum (y - X\\theta)^2$ - or the squared distance between the prediction and the actual value.\n",
    "\n",
    "In the code below, `X` refers to the the training features, `y` refers to the training response, `Xv` refers to the validation features and yv refers to the validation response. Note that `X` is a matrix (or a `DataFrame`) with the shape $n \\times d$ where $n$ is the number of examples and $d$ is the number of features in each example, while `y` is a vector of length $n$ (one response per example).\n",
    "\n",
    "Our goal with this assignment is to accurately estimate the number of plays a song will get based on the features we know about it.\n",
    "\n",
    "The score we'll be judging the models on is called $R^2$, which is a measure of how well the model fits the data. It can be thought of roughly as the percentage of the variance that the model explains. \n",
    "\n",
    "#### Exercise 9\n",
    "\n",
    "**a.** Fit a `LinearRegression` model with scikit-learn and return the model score on both the training data and the validation data."
   ]
  },
  {
   "cell_type": "code",
   "execution_count": 60,
   "metadata": {
    "collapsed": false
   },
   "outputs": [
    {
     "name": "stdout",
     "output_type": "stream",
     "text": [
      "((0.01068508613749708, -0.050281015338619728), (-0.0092878112721761497, 0.016134562407508435))\n"
     ]
    }
   ],
   "source": [
    "from sklearn import linear_model\n",
    "\n",
    "def fit_model(X, y):\n",
    "    #TODO - Write a function that fits a linear model to a dataset given a column of values to predict.\n",
    "    lm = linear_model.LinearRegression()\n",
    "    lm.fit(X,y)\n",
    "    return lm\n",
    "\n",
    "def score_model(model, X, y, Xv, yv):\n",
    "    #TODO - Write a function that returns scores of a model given its training \n",
    "    #features and response and validation features and response. \n",
    "    #The output should be a tuple of two model scores.\n",
    "    X_score = model.score(X, y)\n",
    "    Xv_score = model.score(Xv,yv)\n",
    "    return (X_score, Xv_score)\n",
    "\n",
    "def fit_model_and_score(data, response, validation, val_response):\n",
    "    #TODO - Given a training dataset, a validation dataset, and the name of a column to predict, \n",
    "    #Using the model's \".score()\" method, return the model score on the training data *and* the validation data\n",
    "    #as a tuple of two doubles.\n",
    "    lm_X = fit_model(data, response)\n",
    "    lm_Xv = fit_model(validation, val_response)\n",
    "    \n",
    "    score_X = score_model(lm_X, data, response, validation, val_response)\n",
    "    score_Xv = score_model(lm_Xv, data, response, validation, val_response)\n",
    "    \n",
    "    return (score_X, score_Xv)\n",
    "    \n",
    "    \n",
    "    #END TODO\n",
    "\n",
    "print fit_model_and_score(train_basic_features, train_basic_response, validation_basic_features, validation_basic_response)\n",
    "\n",
    "model = fit_model(train_basic_features, train_basic_response)\n"
   ]
  },
  {
   "cell_type": "markdown",
   "metadata": {},
   "source": [
    "We realize that this may be your first experience with linear models - but that's a pretty low $R^2$ - we're looking for scores significantly higher than 0, and the maximum is a 1. \n",
    "\n",
    "So what happened? Well, we've modeled a **linear** response to our input features, but the variable we're modeling (plays) clearly has a non-linear relationship with respect to the input features. It roughly follows a **power-law** distribution, and so modeling it in linear space yields a model with estimates that are way off.\n",
    "\n",
    "We can verify this by looking at a plot of the model's residuals - that is, the difference between the training responses and the predictions. A good model would have residuals with two properties:\n",
    "\n",
    "1. Small in absolute value. \n",
    "1. Evenly distributed about the true values.\n",
    "\n",
    "**b.** Write a function to calculate the residuals of the model, and plot those with a histogram.\n"
   ]
  },
  {
   "cell_type": "code",
   "execution_count": 83,
   "metadata": {
    "collapsed": false
   },
   "outputs": [
    {
     "name": "stdout",
     "output_type": "stream",
     "text": [
      "(108537,)\n"
     ]
    },
    {
     "data": {
      "text/plain": [
       "<matplotlib.text.Text at 0x112f73d0>"
      ]
     },
     "execution_count": 83,
     "metadata": {},
     "output_type": "execute_result"
    },
    {
     "data": {
      "image/png": "[encoded data removed]",
      "text/plain": [
       "<matplotlib.figure.Figure at 0x11c84db0>"
      ]
     },
     "metadata": {},
     "output_type": "display_data"
    }
   ],
   "source": [
    "def residuals(features, y, model):\n",
    "    #TODO - Write a function that calculates model residuals given input features, ground truth, and the model.\n",
    "    y_predicted = model.predict(features)\n",
    "    #print shape(y_predicted), len(y)\n",
    "    return abs(y_predicted - y)\n",
    "    \n",
    "\n",
    "lm = fit_model(train_basic_features, train_basic_response)\n",
    "s = residuals(train_basic_features, train_basic_response,lm)\n",
    "s_array = np.array(s, dtype=pd.Series)\n",
    "print shape(s_array)\n",
    "#TODO - Plot the histogram of the residuals of your current model.\n",
    "plt.hist(s_array)\n",
    "\n"
   ]
  },
  {
   "cell_type": "markdown",
   "metadata": {},
   "source": [
    "See the structure in the plot? This means we've got more modeling to do before we can call it a day! It satisfies neither of our properties - we're often way wrong with our predictions, and seem to systematically **under** predict the number of plays a song will get.\n",
    "\n",
    "What happens if we try and predict the $log$ of number of plays? This controls the exponential behaviour of plays, and gives less weight to the case where our prediction was off by 100 when the true answer was 1000. \n",
    "\n",
    "#### Exercise 10\n",
    "**a.** Adapt your model fitting from above to fit the **log** of the nubmer of plays as your response variable. Print the scores."
   ]
  },
  {
   "cell_type": "code",
   "execution_count": 93,
   "metadata": {
    "collapsed": false
   },
   "outputs": [
    {
     "data": {
      "text/plain": [
       "((0.021095463794837288, -0.049465535235855063),\n",
       " (-0.011626442516530222, 0.029264939276120949))"
      ]
     },
     "execution_count": 93,
     "metadata": {},
     "output_type": "execute_result"
    }
   ],
   "source": [
    "from sklearn import linear_model\n",
    "import math\n",
    "fit_model_and_score(train_basic_features, np.log(train_basic_response), validation_basic_features, np.log(validation_basic_response))\n",
    "\n"
   ]
  },
  {
   "cell_type": "markdown",
   "metadata": {},
   "source": [
    "**b.** You should see a significantly better $R^2$ and validation $R^2$, though still pretty low. Take a look at the model residuals again, do they look any better?"
   ]
  },
  {
   "cell_type": "code",
   "execution_count": 113,
   "metadata": {
    "collapsed": false
   },
   "outputs": [
    {
     "data": {
      "text/plain": [
       "(array([  1.05050000e+04,   1.03990000e+04,   2.93200000e+03,\n",
       "          9.17000000e+02,   4.63000000e+02,   1.96000000e+02,\n",
       "          9.10000000e+01,   4.40000000e+01,   9.00000000e+00,\n",
       "          1.70000000e+01]),\n",
       " array([  1.00987325e-05,   3.65753990e-01,   7.31497881e-01,\n",
       "          1.09724177e+00,   1.46298566e+00,   1.82872955e+00,\n",
       "          2.19447345e+00,   2.56021734e+00,   2.92596123e+00,\n",
       "          3.29170512e+00,   3.65744901e+00]),\n",
       " <a list of 10 Patch objects>)"
      ]
     },
     "execution_count": 113,
     "metadata": {},
     "output_type": "execute_result"
    },
    {
     "data": {
      "image/png": "[encoded data removed]",
      "text/plain": [
       "<matplotlib.figure.Figure at 0x104d7df0>"
      ]
     },
     "metadata": {},
     "output_type": "display_data"
    }
   ],
   "source": [
    "#TODO Plot residuals of your log model. Note - we want to see these on a \"plays\" scale, not a \"log(plays)\" scale!\n",
    "\n",
    "train_res = residuals(train_basic_features, np.log(train_basic_response), fit_model(train_basic_features, np.log(train_basic_response)))\n",
    "val_res = residuals(validation_basic_features, np.log(validation_basic_response), fit_model(validation_basic_features, np.log(validation_basic_response)))\n",
    "\n",
    "plt.hist(train_res)\n",
    "plt.hist(val_res)"
   ]
  },
  {
   "cell_type": "markdown",
   "metadata": {},
   "source": [
    "There must be something we can do here to build a better model. Let's try incorporating country and cluster information.\n",
    "\n",
    "###2.3 Linear Modeling with Categorical Variables: One-Hot Encoding\n",
    "\n",
    "Linear models expect **numbers** for input features. But we have some features that we think could be useful that are **discrete** or **categorical**. How do we represent these as numbers?\n",
    "\n",
    "One solution is something called one-hot encoding. Basically, we map a discrete space to a vector of binary indicators, then use these indicators as numbers.\n",
    "\n",
    "For example, if I had an input column that could take on the values {$RED$, $GREEN$, $BLUE$}, and I wanted to model this with one-hot-encoding, I could use a map:\n",
    "\n",
    "* $RED = 001$\n",
    "* $GREEN = 010$\n",
    "* $BLUE = 100$\n",
    "\n",
    "We use this representation instead of traditional binary numbers to keep these features independent of one another.\n",
    "\n",
    "Once we've established this representation, we replace the columns in our dataset with their one-hot-encoded values. Then, we can fit a linear model on the data once it's encoded this way!\n",
    "\n",
    "Statisticians and econometricians call these types of binary variables *dummy variables*, but we're going to call it one-hot encoding, because that sounds cooler.\n",
    "\n",
    "Scikit-learn has functionality to transform values to this encoding built in, so we'll leverage that. The functionality is called `DictVectorizer` in scikit-learn. The idea is that you feed a `DictVectorizer` a bunch of examples of your data (that's the `vec.fit` line), and it builds a map from a categorical variable to a one-hot encoded vector like we have in the color example above. Then, you can use this object to translate from categorical values to sequences of numeric ones as we do with `vec.transform`. In the example below, we fit a vectorizer on the training data and use the same vectorizer on the validation data so that the mapping is consistent and we don't run into issues if the categories don't match perfectly between the two data sets.\n",
    "\n",
    "####Exercise 11\n",
    "**a.** Use the code below to generate new training and validation datasets for the datasets *with* the categorical features in them."
   ]
  },
  {
   "cell_type": "code",
   "execution_count": 96,
   "metadata": {
    "collapsed": false
   },
   "outputs": [],
   "source": [
    "from sklearn import feature_extraction\n",
    "\n",
    "def one_hot_dataframe(data, cols, vec=None):\n",
    "    \"\"\" Takes a dataframe and a list of columns that need to be encoded.\n",
    "        Returns a tuple comprising the data, and the fitted vectorizor.\n",
    "        \n",
    "        Based on https://gist.github.com/kljensen/5452382\n",
    "    \"\"\"\n",
    "    if vec is None:\n",
    "        vec = feature_extraction.DictVectorizer()\n",
    "        vec.fit(data[cols].to_dict(orient='records'))\n",
    "    \n",
    "    vecData = pd.DataFrame(vec.transform(data[cols].to_dict(orient='records')).toarray())\n",
    "    vecData.columns = vec.get_feature_names()\n",
    "    vecData.index = data.index\n",
    "    \n",
    "    data = data.drop(cols, axis=1)\n",
    "    data = data.join(vecData)\n",
    "    return (data, vec)\n",
    "\n",
    "def prep_dset(data, col, vec=None):\n",
    "    #Convert the clusters to strings.\n",
    "    new_data = data\n",
    "    new_data['cluster'] = new_data['cluster'].apply(str)\n",
    "    \n",
    "    #Encode the data with OneHot Encoding.\n",
    "    new_data, vec = one_hot_dataframe(new_data, ['country1','cluster'], vec)\n",
    "\n",
    "    #Eliminate features we don't want to use in the model.\n",
    "    badcols = ['country2','country3','artid','key','age']\n",
    "    new_data = new_data.drop(badcols, axis=1)\n",
    "    \n",
    "    new_data = new_data.fillna(new_data.mean())\n",
    "    \n",
    "    return (new_data.drop([col], axis=1), pd.DataFrame(new_data[col]), vec)\n",
    "    "
   ]
  },
  {
   "cell_type": "code",
   "execution_count": 97,
   "metadata": {
    "collapsed": false
   },
   "outputs": [],
   "source": [
    "train_cats_features, train_cats_response, vec = prep_dset(train, 'plays')\n",
    "validation_cats_features, validation_cats_response, _ = prep_dset(validation, 'plays', vec)"
   ]
  },
  {
   "cell_type": "markdown",
   "metadata": {},
   "source": [
    "**b.** Now that you've added the categorical data, let's see how it works with a linear model!"
   ]
  },
  {
   "cell_type": "code",
   "execution_count": 98,
   "metadata": {
    "collapsed": false
   },
   "outputs": [
    {
     "name": "stdout",
     "output_type": "stream",
     "text": [
      "((0.14153081992197214, -0.37153757847544228), (0.041302946714498523, 0.10962531673699971))\n"
     ]
    }
   ],
   "source": [
    "print fit_model_and_score(train_cats_features, train_cats_response, validation_cats_features, validation_cats_response)"
   ]
  },
  {
   "cell_type": "markdown",
   "metadata": {},
   "source": [
    "You should see a much better $R^2$ for the training data, but a much *worse* one for the validation data. What happened?\n",
    "\n",
    "This is a phenomenon called **overfitting** - our model has too many degrees of freedom (one parameter for each of the 100+ features of this dataset. This means that while our model fits the training data reasonably well, but at the expense of being too specific to that data.\n",
    "\n",
    "John Von Neumann famously said [\"With four parameters I can fit an elephant, and with five I can make him wiggle his trunk!\"](http://www.johndcook.com/blog/2011/06/21/how-to-fit-an-elephant/).\n",
    "\n",
    "### 2.4 Non-linear modeling and Regression Trees\n",
    "So, we're at an impasse. We didn't have enough features and our model performed poorly, we added too many features and our model looked good on training data, but not so good on test data.\n",
    "\n",
    "What's a modeler to do? \n",
    "\n",
    "There are a couple of ways of dealing with this situation - one of them is called **regularization**, which you might try on your own (see `RidgeRegression` or `LassoRegression` in scikit-learn), another is to use a model which captures **non-linear** relationships between the features and the response variable.\n",
    "\n",
    "One such type of model was pioneered at Berkeley, by the late, great Leo Breiman. These models are called **regression trees**.\n",
    "\n",
    "The basic idea behind regression treees is to recursively partition the dataset into subsets that are *similar with respect to the response variable*. \n",
    "\n",
    "If we take our temperature example, we might observe a non-linear relationship - electricity gets expensive when it's cold outside because we use the heater, but it also gets expensive when it's too hot outside because we run the air conditioning. \n",
    "\n",
    "A decision tree model might dynamically elect to split the data on the temperature feature, and estimate high prices both for hot and cold, with lower prices for more Berkeley-like temperatures. Go read the [scikit-learn decision trees documentation](http://scikit-learn.org/stable/modules/tree.html) for more background.\n",
    "\n",
    "####Exercise 12\n",
    "**a.** Using the scikit learn `DecsionTreeRegressor` API, write a function that fits trees with the parameter 'max_depth' exposed to the user, and set to 10 by default."
   ]
  },
  {
   "cell_type": "code",
   "execution_count": 104,
   "metadata": {
    "collapsed": false
   },
   "outputs": [],
   "source": [
    "from sklearn import tree\n",
    "\n",
    "def fit_tree(X, y, depth=10):\n",
    "    ##TODO: Using the DecisionTreeRegressor, train a model to depth 10.\n",
    "    regressor = tree.DecisionTreeRegressor(max_depth = depth)\n",
    "    regressor.fit(X,y)\n",
    "    return regressor"
   ]
  },
  {
   "cell_type": "markdown",
   "metadata": {},
   "source": [
    "**b.** You should be able to use your same scoring function as above to compute your model scores. Write a function that fits a tree model to your training set and returns the model's score for both the training set and the validation set."
   ]
  },
  {
   "cell_type": "code",
   "execution_count": 105,
   "metadata": {
    "collapsed": false
   },
   "outputs": [],
   "source": [
    "def fit_model_and_score_tree(train_features, train_response, val_features, val_response):\n",
    "    ##TODO: Fit a tree model and report the score on both the training set and test set.\n",
    "    fit_train= fit_tree(train_features, train_response, depth=10)\n",
    "    fit_val = fit_tree(val_features, val_response, depth=10)\n",
    "    \n",
    "    score_train = fit_train.score(train_features, train_response)\n",
    "    score_val = fit_val.score(val_features, val_response)\n",
    "    \n",
    "    return (score_train, score_val)"
   ]
  },
  {
   "cell_type": "markdown",
   "metadata": {},
   "source": [
    "**c.** Report the scores on the training and test data for both the basic features and the categorical features."
   ]
  },
  {
   "cell_type": "code",
   "execution_count": 106,
   "metadata": {
    "collapsed": false
   },
   "outputs": [
    {
     "name": "stdout",
     "output_type": "stream",
     "text": [
      "(0.39278429275650095, 0.41843068375344322)\n",
      "(0.43856166294127608, 0.53129126307462993)\n"
     ]
    }
   ],
   "source": [
    "print fit_model_and_score_tree(train_basic_features, train_basic_response, validation_basic_features, validation_basic_response)\n",
    "print fit_model_and_score_tree(train_cats_features, train_cats_response, validation_cats_features, validation_cats_response)"
   ]
  },
  {
   "cell_type": "markdown",
   "metadata": {},
   "source": [
    "Hooray - we've got a model that performs well on the training data set *and* the validation dataset. Which one is better? Why do you think that is. Try varying the depth of the decision tree (from, say, 2 to 20) and see how either data set does with respect to training and validation error. \n",
    "\n",
    "**d.** Now, let's build a tree to depth 3 and take a look at it."
   ]
  },
  {
   "cell_type": "code",
   "execution_count": 109,
   "metadata": {
    "collapsed": false
   },
   "outputs": [
    {
     "ename": "NameError",
     "evalue": "global name 'dot_parser' is not defined",
     "output_type": "error",
     "traceback": [
      "\u001b[1;31m---------------------------------------------------------------------------\u001b[0m",
      "\u001b[1;31mNameError\u001b[0m                                 Traceback (most recent call last)",
      "\u001b[1;32m<ipython-input-109-15f5e372f563>\u001b[0m in \u001b[0;36m<module>\u001b[1;34m()\u001b[0m\n\u001b[0;32m     11\u001b[0m     \u001b[1;32mreturn\u001b[0m \u001b[0mImage\u001b[0m\u001b[1;33m(\u001b[0m\u001b[0mgraph\u001b[0m\u001b[1;33m.\u001b[0m\u001b[0mcreate_png\u001b[0m\u001b[1;33m(\u001b[0m\u001b[1;33m)\u001b[0m\u001b[1;33m)\u001b[0m\u001b[1;33m\u001b[0m\u001b[0m\n\u001b[0;32m     12\u001b[0m \u001b[1;33m\u001b[0m\u001b[0m\n\u001b[1;32m---> 13\u001b[1;33m \u001b[0mdisplay_tree\u001b[0m\u001b[1;33m(\u001b[0m\u001b[0mtmodel\u001b[0m\u001b[1;33m)\u001b[0m\u001b[1;33m\u001b[0m\u001b[0m\n\u001b[0m",
      "\u001b[1;32m<ipython-input-109-15f5e372f563>\u001b[0m in \u001b[0;36mdisplay_tree\u001b[1;34m(tmodel)\u001b[0m\n\u001b[0;32m      8\u001b[0m     \u001b[0mdot_data\u001b[0m \u001b[1;33m=\u001b[0m \u001b[0mStringIO\u001b[0m\u001b[1;33m.\u001b[0m\u001b[0mStringIO\u001b[0m\u001b[1;33m(\u001b[0m\u001b[1;33m)\u001b[0m\u001b[1;33m\u001b[0m\u001b[0m\n\u001b[0;32m      9\u001b[0m     \u001b[0mtree\u001b[0m\u001b[1;33m.\u001b[0m\u001b[0mexport_graphviz\u001b[0m\u001b[1;33m(\u001b[0m\u001b[0mtmodel\u001b[0m\u001b[1;33m,\u001b[0m \u001b[0mout_file\u001b[0m\u001b[1;33m=\u001b[0m\u001b[0mdot_data\u001b[0m\u001b[1;33m)\u001b[0m\u001b[1;33m\u001b[0m\u001b[0m\n\u001b[1;32m---> 10\u001b[1;33m     \u001b[0mgraph\u001b[0m \u001b[1;33m=\u001b[0m \u001b[0mpydot\u001b[0m\u001b[1;33m.\u001b[0m\u001b[0mgraph_from_dot_data\u001b[0m\u001b[1;33m(\u001b[0m\u001b[0mdot_data\u001b[0m\u001b[1;33m.\u001b[0m\u001b[0mgetvalue\u001b[0m\u001b[1;33m(\u001b[0m\u001b[1;33m)\u001b[0m\u001b[1;33m)\u001b[0m\u001b[1;33m\u001b[0m\u001b[0m\n\u001b[0m\u001b[0;32m     11\u001b[0m     \u001b[1;32mreturn\u001b[0m \u001b[0mImage\u001b[0m\u001b[1;33m(\u001b[0m\u001b[0mgraph\u001b[0m\u001b[1;33m.\u001b[0m\u001b[0mcreate_png\u001b[0m\u001b[1;33m(\u001b[0m\u001b[1;33m)\u001b[0m\u001b[1;33m)\u001b[0m\u001b[1;33m\u001b[0m\u001b[0m\n\u001b[0;32m     12\u001b[0m \u001b[1;33m\u001b[0m\u001b[0m\n",
      "\u001b[1;32mC:\\Users\\AK\\Anaconda2\\lib\\site-packages\\pydot.pyc\u001b[0m in \u001b[0;36mgraph_from_dot_data\u001b[1;34m(data)\u001b[0m\n\u001b[0;32m    218\u001b[0m     \"\"\"\n\u001b[0;32m    219\u001b[0m \u001b[1;33m\u001b[0m\u001b[0m\n\u001b[1;32m--> 220\u001b[1;33m     \u001b[1;32mreturn\u001b[0m \u001b[0mdot_parser\u001b[0m\u001b[1;33m.\u001b[0m\u001b[0mparse_dot_data\u001b[0m\u001b[1;33m(\u001b[0m\u001b[0mdata\u001b[0m\u001b[1;33m)\u001b[0m\u001b[1;33m\u001b[0m\u001b[0m\n\u001b[0m\u001b[0;32m    221\u001b[0m \u001b[1;33m\u001b[0m\u001b[0m\n\u001b[0;32m    222\u001b[0m \u001b[1;33m\u001b[0m\u001b[0m\n",
      "\u001b[1;31mNameError\u001b[0m: global name 'dot_parser' is not defined"
     ]
    }
   ],
   "source": [
    "import StringIO \n",
    "import pydot \n",
    "from IPython.display import Image\n",
    "\n",
    "tmodel = fit_tree(train_basic_features, train_basic_response, 3)\n",
    "\n",
    "def display_tree(tmodel):\n",
    "    dot_data = StringIO.StringIO() \n",
    "    tree.export_graphviz(tmodel, out_file=dot_data) \n",
    "    graph = pydot.graph_from_dot_data(dot_data.getvalue())\n",
    "    return Image(graph.create_png())\n",
    "    \n",
    "display_tree(tmodel)"
   ]
  },
  {
   "cell_type": "markdown",
   "metadata": {},
   "source": [
    "**e.** What is the tree doing? It looks like it's making a decision on variables X[4] and X[2] - can you briefly describe, in words, what the tree is doing?"
   ]
  },
  {
   "cell_type": "markdown",
   "metadata": {},
   "source": [
    ">TODO: Your answer goes here."
   ]
  },
  {
   "cell_type": "markdown",
   "metadata": {},
   "source": [
    "**f.** Finally, let's take a look at variable importance for a tree trained to 10 levels - this is a more formal way of deciding which features are important to the tree. The metric that scikit-learn calculates for feature importance is called GINI importance, and measures how much total 'impurity' is removed by splits from a given node. Variables that are highly discriminitive (e.g. ones that occur frequently throughout the tree) have higher GINI scores. You can read more about these scores [here](http://www.stat.berkeley.edu/~breiman/RandomForests/cc_home.htm#giniimp)."
   ]
  },
  {
   "cell_type": "code",
   "execution_count": 108,
   "metadata": {
    "collapsed": false
   },
   "outputs": [
    {
     "data": {
      "text/html": [
       "<div>\n",
       "<table border=\"1\" class=\"dataframe\">\n",
       "  <thead>\n",
       "    <tr style=\"text-align: right;\">\n",
       "      <th></th>\n",
       "      <th>0</th>\n",
       "    </tr>\n",
       "  </thead>\n",
       "  <tbody>\n",
       "    <tr>\n",
       "      <th>pctmale</th>\n",
       "      <td>0.116730</td>\n",
       "    </tr>\n",
       "    <tr>\n",
       "      <th>age</th>\n",
       "      <td>0.032432</td>\n",
       "    </tr>\n",
       "    <tr>\n",
       "      <th>pctgt1</th>\n",
       "      <td>0.420268</td>\n",
       "    </tr>\n",
       "    <tr>\n",
       "      <th>pctgt2</th>\n",
       "      <td>0.144863</td>\n",
       "    </tr>\n",
       "    <tr>\n",
       "      <th>pctgt5</th>\n",
       "      <td>0.251208</td>\n",
       "    </tr>\n",
       "    <tr>\n",
       "      <th>account_age</th>\n",
       "      <td>0.034499</td>\n",
       "    </tr>\n",
       "  </tbody>\n",
       "</table>\n",
       "</div>"
      ],
      "text/plain": [
       "                    0\n",
       "pctmale      0.116730\n",
       "age          0.032432\n",
       "pctgt1       0.420268\n",
       "pctgt2       0.144863\n",
       "pctgt5       0.251208\n",
       "account_age  0.034499"
      ]
     },
     "execution_count": 108,
     "metadata": {},
     "output_type": "execute_result"
    }
   ],
   "source": [
    "tmodel = fit_tree(train_basic_features, train_basic_response, 10)\n",
    "\n",
    "pd.DataFrame(tmodel.feature_importances_, train_basic_features.columns)"
   ]
  },
  {
   "cell_type": "markdown",
   "metadata": {},
   "source": [
    "**g.** What do you notice? Is the output interpretable? How would you explain this to someone?"
   ]
  },
  {
   "cell_type": "markdown",
   "metadata": {},
   "source": [
    ">GINI index shows node impurity, when a parent node is split into two nodes. We find that the higher the GINI index is the impurer the split is.  Therefore if we use age and account_age, they will give us much purer splits on GINI. "
   ]
  },
  {
   "cell_type": "code",
   "execution_count": null,
   "metadata": {
    "collapsed": true
   },
   "outputs": [],
   "source": []
  }
 ],
 "metadata": {
  "anaconda-cloud": {},
  "kernelspec": {
   "display_name": "Python [Root]",
   "language": "python",
   "name": "Python [Root]"
  },
  "language_info": {
   "codemirror_mode": {
    "name": "ipython",
    "version": 2
   },
   "file_extension": ".py",
   "mimetype": "text/x-python",
   "name": "python",
   "nbconvert_exporter": "python",
   "pygments_lexer": "ipython2",
   "version": "2.7.12"
  }
 },
 "nbformat": 4,
 "nbformat_minor": 0
}
